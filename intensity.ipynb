{
 "cells": [
  {
   "cell_type": "markdown",
   "metadata": {},
   "source": [
    "This notebooks works like the monte_carlo notebook, except with only one price and one market situation.\n",
    "The time between adjustmensts of prices gets split into B parts and for each purchase the time slot o fit is tracked. At the end, it creates a graph. The time horizon is 1."
   ]
  },
  {
   "cell_type": "code",
   "execution_count": 1,
   "metadata": {
    "collapsed": true
   },
   "outputs": [],
   "source": [
    "import numpy as np\n",
    "import random\n",
    "import csv\n",
    "import matplotlib.pyplot as plt\n",
    "import pandas as pd"
   ]
  },
  {
   "cell_type": "code",
   "execution_count": 2,
   "metadata": {
    "collapsed": true
   },
   "outputs": [],
   "source": [
    "numberPlayers = 5\n",
    "timeHorizon = 1\n",
    "numberMarketReactionEvents = round(1.1*timeHorizon)\n",
    "meanTimeBetweenCustomerArrival = 2\n",
    "numberOfCustomerEvents = round(1.1*timeHorizon/meanTimeBetweenCustomerArrival)   # values used for paper: (np.arange(0,15.1,0.1))\n",
    "watchedCompany = 0\n",
    "numberSimulations = 10000  \n",
    "m = 2\n",
    "numberCustomerEvents = 4\n",
    "reactionTimeCompany = timeHorizon\n",
    "intensity_price = 7\n",
    "bb = 20\n",
    "strategies = [\"S1\",\"S2\",\"S3\"]\n",
    "random.seed(12530586)"
   ]
  },
  {
   "cell_type": "code",
   "execution_count": 3,
   "metadata": {
    "collapsed": true
   },
   "outputs": [],
   "source": [
    "pricesCompanies = np.array([round(random.uniform(6,16),2) for _ in range(numberPlayers)])\n",
    "qualityCompanies = np.array([round(random.uniform(0.5,5.5)) for _ in range(numberPlayers)])\n",
    "ratingCompanies = np.array([round(random.uniform(90,100),1) for _ in range(numberPlayers)])"
   ]
  },
  {
   "cell_type": "code",
   "execution_count": 4,
   "metadata": {
    "collapsed": true
   },
   "outputs": [],
   "source": [
    "def price_if_smaller_else(price, price_smaller, else_min, prices_comp, c):\n",
    "    return(price if min(prices_comp[comp] for comp in range(numberPlayers) if comp!=c)< price_smaller else round(min([max(else_min, prices_comp[company]-0.5) for company in range(numberPlayers) if company != c]),2))\n",
    "\n",
    "s1 = {\n",
    "        '0' : lambda pricesCompanies, c: round(random.uniform(0,15),2),\n",
    "        '1' : lambda pricesCompanies, c: round(random.uniform(5,15),2),\n",
    "        '2' : lambda pricesCompanies, c: round(random.uniform(5,15),2),\n",
    "        '3' : lambda pricesCompanies, c: round(random.uniform(5,15),2),\n",
    "        '4' : lambda pricesCompanies, c: round(random.uniform(5,15),2)\n",
    "    }\n",
    "\n",
    "s2 = {\n",
    "        '0' : lambda pricesCompanies, c: price_if_smaller_else(10,5,4.9,pricesCompanies,c),\n",
    "        '1' : lambda pricesCompanies, c: price_if_smaller_else(10,5,4.9,pricesCompanies,c),\n",
    "        '2' : lambda pricesCompanies, c: price_if_smaller_else(10,5,4.9,pricesCompanies,c),\n",
    "        '3' : lambda pricesCompanies, c: price_if_smaller_else(10,5,4.9,pricesCompanies,c),\n",
    "        '4' : lambda pricesCompanies, c: price_if_smaller_else(10,5,4.9,pricesCompanies,c)\n",
    "    }\n",
    "\n",
    "s3 = {\n",
    "        '0' : lambda pricesCompanies, c: price_if_smaller_else(10,5,4.9,pricesCompanies,c),\n",
    "        '1' : lambda pricesCompanies, c: price_if_smaller_else(9,4,3.9,pricesCompanies,c),\n",
    "        '2' : lambda pricesCompanies, c: price_if_smaller_else(12,6,5.9,pricesCompanies,c),\n",
    "        '3' : lambda pricesCompanies, c: 11,\n",
    "        '4' : lambda pricesCompanies, c: 13\n",
    "    }"
   ]
  },
  {
   "cell_type": "code",
   "execution_count": 5,
   "metadata": {
    "collapsed": true
   },
   "outputs": [],
   "source": [
    "def calculateTimeOfAdjustmentsCompany(company, i, timeBetweenMarketEventsCompany, first_reaction):\n",
    "    if i==0:\n",
    "        if company != watchedCompany:\n",
    "            return first_reaction[company][i]\n",
    "        else:\n",
    "            return(reactionTimeCompany)\n",
    "    else:\n",
    "        return(calculateTimeOfAdjustmentsCompany(company, i-1, timeBetweenMarketEventsCompany, first_reaction)+ timeBetweenMarketEventsCompany[company][i-1])\n",
    "    \n",
    "def calculateTimeOfCustomerArrival(customer, timeBetweenMarketEventsCustomer):\n",
    "    if customer==0:\n",
    "        return timeBetweenMarketEventsCustomer[customer]\n",
    "    else:\n",
    "        return(calculateTimeOfCustomerArrival(customer-1, timeBetweenMarketEventsCustomer) + timeBetweenMarketEventsCustomer[customer])\n",
    "\n",
    "def calculatePrices(pricesCompaniesAdjustments, adjustingFirm, strategy):\n",
    "    pricesCompaniesAdjustments = np.array(pricesCompaniesAdjustments)\n",
    "    for i in range(1,len(pricesCompaniesAdjustments)-1):        \n",
    "        pricesCompaniesAdjustments[i:,adjustingFirm[i]] = strategy[str(adjustingFirm[i])](pricesCompaniesAdjustments[i-1],adjustingFirm[i])\n",
    "    pricesCompaniesAdjustments[len(pricesCompaniesAdjustments)-1] = pricesCompaniesAdjustments[len(pricesCompaniesAdjustments)-2]\n",
    "    return pricesCompaniesAdjustments"
   ]
  },
  {
   "cell_type": "code",
   "execution_count": null,
   "metadata": {},
   "outputs": [],
   "source": [
    "timeBetweenMarketEventsCompany = np.array([[[random.uniform(0.8,1.2) for i in range(m)] for company in range(numberPlayers)] for _ in range(numberSimulations)])\n",
    "first_reaction = np.array([[[random.uniform(0,1) for i in range(m)] for company in range(numberPlayers)] for _ in range(numberSimulations)])\n",
    "timeOfAdjustmentsCompany = np.array([[[calculateTimeOfAdjustmentsCompany(company ,i, timeBetweenMarketEventsCompany[simulationNumber], first_reaction[simulationNumber]) for i in range(m)] for company in range(numberPlayers)] for simulationNumber in range(numberSimulations)])\n",
    "priceAdjustmentsBeforeHorizon = np.array([set([timeOfAdjustmentsCompany[simulationNumber].flatten()[i] for i in range(len(timeOfAdjustmentsCompany[simulationNumber].flatten())) if timeOfAdjustmentsCompany[simulationNumber].flatten()[i] < timeHorizon]) for simulationNumber in range(numberSimulations)])\n",
    "\n",
    "priceAdjustmentsBeforeHorizon = np.array([sorted(priceAdjustmentsBeforeHorizon[simulationNumber])+[timeHorizon] for simulationNumber in range(numberSimulations)])\n",
    "\n",
    "numberPriceAdjustmentsBeforeHorizon = np.array([len(priceAdjustmentsBeforeHorizon[simulationNumber]) for simulationNumber in range(numberSimulations)])\n",
    "\n",
    "timeMarketEvents = np.array([[0 if i==0 else priceAdjustmentsBeforeHorizon[simulationNumber][i-1] for i in range(numberPriceAdjustmentsBeforeHorizon[simulationNumber]+1)]for simulationNumber in range(numberSimulations)])\n",
    "\n",
    "adjustingFirm = np.array([[min(np.where(timeOfAdjustmentsCompany[simulationNumber]==priceAdjustmentsBeforeHorizon[simulationNumber][i] )[0]) if priceAdjustmentsBeforeHorizon[simulationNumber][i]!= timeHorizon and i!=0 else -1 for i in range(numberPriceAdjustmentsBeforeHorizon[simulationNumber])] for simulationNumber in range(numberSimulations)])\n",
    "timeBetweenCustomerEvents = np.array([[meanTimeBetweenCustomerArrival*np.random.exponential() for _ in range(numberCustomerEvents)]for simulationNumber in range(numberSimulations)])\n",
    "timeCustomerEvents = np.array([[calculateTimeOfCustomerArrival(customer, timeBetweenCustomerEvents[simulationNumber]) for customer in range(numberCustomerEvents)] for simulationNumber in range(numberSimulations)])\n",
    "\n",
    "randomCustomerScoringQuality = np.array([[random.uniform(0,1) for _ in range(numberCustomerEvents)] for simulationNumber in range(numberSimulations)])\n",
    "randomCustomerScoringRating = np.array([[random.uniform(0,0.5) for _ in range(numberCustomerEvents)] for simulationNumber in range(numberSimulations)])\n",
    "\n",
    "customerScoringQualityRating = np.array([[[(randomCustomerScoringQuality[s][c]*2 +\n",
    "    randomCustomerScoringRating[s][c]*(100-98))for k in range(numberPlayers)] for c in range(numberCustomerEvents)] for s in range(numberSimulations)])\n",
    "\n",
    "pricesCompanies = np.array([intensity_price+20.5+2*(k-2) if k!=watchedCompany else intensity_price  for k in range(numberPlayers)])\n",
    "pricesCompaniesAdjustments = np.array([[[pricesCompanies[k]  for k in range(numberPlayers)]for _ in range(numberPriceAdjustmentsBeforeHorizon[s])] for s in range(numberSimulations)])\n",
    "pricesCompaniesAdjustments = np.array([[np.array(calculatePrices(pricesCompaniesAdjustments[s], adjustingFirm[s], globals()[\"s{}\".format(strat+1)])) for s in range(numberSimulations)]for strat in range(len(strategies))])\n",
    "\n",
    "gen = np.array([[list([x for x in range(numberCustomerEvents) if timeMarketEvents[s][i]< timeCustomerEvents[s][x]< timeMarketEvents[s][i+1]]) for i in range(numberPriceAdjustmentsBeforeHorizon[s])] for s in range(numberSimulations)] )\n",
    "\n",
    "randomCustomerScoring = np.array([[[[[(pricesCompaniesAdjustments[strat,s][i,k] + customerScoringQualityRating[s,c,k]) for k in range(numberPlayers)]for c in gen[s][i]]for i in range(numberPriceAdjustmentsBeforeHorizon[s])] for s in range(numberSimulations)]for strat in range(len(strategies))])\n",
    "randomCustomerDecision = np.array([[[[np.argmin(randomCustomerScoring[strat,s][i][c]) if min(randomCustomerScoring[strat,s][i][c])< random.uniform(5,15) else -1 for c in range(len(gen[s][i]))]for i in range(numberPriceAdjustmentsBeforeHorizon[s])] for s in range(numberSimulations)]for strat in range(len(strategies))])\n",
    "\n",
    "b = np.array([[[int(round((timeCustomerEvents[s][c]+1/bb/2)*bb))for c in range(len(gen[s][i]))]for i in range(numberPriceAdjustmentsBeforeHorizon[s])] for s in range(numberSimulations)])\n",
    "\n",
    "At = np.array([[[sum([sum([sum([1 if b[s][i][c]==t and randomCustomerDecision[strat,s][i][c]==k  else 0 for c in range(len(gen[s][i]))])for i in range(numberPriceAdjustmentsBeforeHorizon[s])])for s in range(numberSimulations)])for k in range(numberPlayers)]for t in range(reactionTimeCompany*bb+1)]for strat in range(len(strategies))])\n",
    "                        \n",
    "x = [t/bb for t in range(1,reactionTimeCompany*bb+1)]\n",
    "\n",
    "plt.plot(x, [At[0,t][watchedCompany]/numberSimulations*bb for t in range(1,len(x)+1)], 'b-', label='S1')\n",
    "plt.plot(x, [At[1,t][watchedCompany]/numberSimulations*bb for t in range(1,len(x)+1)], 'r-', label='S2')\n",
    "plt.plot(x, [At[2,t][watchedCompany]/numberSimulations*bb for t in range(1,len(x)+1)], 'g-', label='S3')\n",
    "plt.legend(loc='best')\n",
    "plt.xlabel('t')\n",
    "plt.ylabel('E(λ$_t$)')"
   ]
  },
  {
   "cell_type": "markdown",
   "metadata": {},
   "source": [
    "Simulated expected sales intensities of firm 1 over one period of time time for different competitive setups (i)-(iii), starting in market situation s0 , cf."
   ]
  },
  {
   "cell_type": "code",
   "execution_count": 7,
   "metadata": {},
   "outputs": [
    {
     "data": {
      "image/png": "[encoded data removed]",
      "text/plain": [
       "<matplotlib.figure.Figure at 0x1055da198>"
      ]
     },
     "metadata": {},
     "output_type": "display_data"
    }
   ],
   "source": [
    "plt.show()"
   ]
  }
 ],
 "metadata": {
  "kernelspec": {
   "display_name": "Python 3",
   "language": "python",
   "name": "python3"
  },
  "language_info": {
   "codemirror_mode": {
    "name": "ipython",
    "version": 3
   },
   "file_extension": ".py",
   "mimetype": "text/x-python",
   "name": "python",
   "nbconvert_exporter": "python",
   "pygments_lexer": "ipython3",
   "version": "3.6.3"
  }
 },
 "nbformat": 4,
 "nbformat_minor": 2
}
