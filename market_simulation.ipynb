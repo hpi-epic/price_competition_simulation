{
 "cells": [
  {
   "cell_type": "markdown",
   "metadata": {},
   "source": [
    "# Market Simulation\n",
    "\n",
    "This notebook creates one file.\n",
    "For a given number of market situations, each market situation is simulated with the same starting condition multiple times for a specified time horizon.\n",
    "In the `demand_learning_data` file we save explanatory variables for market situations and whether there was a purchase in the current situation. We also create three graphs displaying a selected time period from our simulation."
   ]
  },
  {
   "cell_type": "markdown",
   "metadata": {},
   "source": [
    "** We create the output files for three different pricing strategies:**\n",
    "* _Setup 1 (S1):_  For the watched company we chose a random price between 0 and 15. For all the other companies, we chose a price between 5 and 15.\n",
    "* _Setup 2 (S2):_ For each company we use the same pricing strategy:  \n",
    "```min_competitor_price = min(prices_companies)\n",
    "if min_competitor_price < 5:\n",
    "    10\n",
    "else:\n",
    "    max(4.9, (min_competitor_price - 0.5))\n",
    "```\n",
    "* _Setup 3 (S3):_ For the first three companies we use the approach from Strategy 2, except with different thresholds. The last two companies have a fixed price of either 11 or 13."
   ]
  },
  {
   "cell_type": "code",
   "execution_count": 1,
   "metadata": {
    "collapsed": true
   },
   "outputs": [],
   "source": [
    "import random\n",
    "import numpy as np\n",
    "import csv\n",
    "import matplotlib.pyplot as plt\n",
    "import pandas as pd"
   ]
  },
  {
   "cell_type": "code",
   "execution_count": 2,
   "metadata": {
    "collapsed": true
   },
   "outputs": [],
   "source": [
    "numberPlayers = 5\n",
    "timeHorizon = 100\n",
    "numberReactionEvents = timeHorizon + 100\n",
    "meanDifferenceCustomerArrival = 1\n",
    "numberCustomerEvents = int(timeHorizon / meanDifferenceCustomerArrival + 100)\n",
    "iterateDifferentStart = 100\n",
    "iterateSameStart = 1\n",
    "companyToWatch = 0\n",
    "currentLine = 0\n",
    "strategies = [\"S1\",\"S2\",\"S3\"]\n",
    "random.seed(1253056)"
   ]
  },
  {
   "cell_type": "code",
   "execution_count": 3,
   "metadata": {
    "collapsed": true,
    "scrolled": true
   },
   "outputs": [],
   "source": [
    "pricesCompanies = np.array([[round(random.uniform(6,16),2) for _ in range(numberPlayers)]for _ in range(iterateDifferentStart)])\n",
    "qualityCompanies = np.array([[round(random.uniform(0.5,5.5)) for _ in range(numberPlayers)]for _ in range(iterateDifferentStart)])\n",
    "ratingCompanies = np.array([[round(random.uniform(90,100),1) for _ in range(numberPlayers)]for _ in range(iterateDifferentStart)])"
   ]
  },
  {
   "cell_type": "code",
   "execution_count": 4,
   "metadata": {
    "collapsed": true
   },
   "outputs": [],
   "source": [
    "def calculateTimeOfAdjustmentsCompany(numberReactionEvent, company, timeBetweenMarketEvents, first_reaction):\n",
    "    if numberReactionEvent==0:\n",
    "        return first_reaction[company]\n",
    "    else: return(calculateTimeOfAdjustmentsCompany(numberReactionEvent-1, company, timeBetweenMarketEvents, first_reaction)+timeBetweenMarketEvents[company][numberReactionEvent-1])\n",
    "    \n",
    "def calculateTimeOfCustomerArrival(numberCustomerEvent, timeBetweenCustomerEvents):\n",
    "    if numberCustomerEvent==0:\n",
    "        return timeBetweenCustomerEvents[numberCustomerEvent]\n",
    "    else:\n",
    "        return(calculateTimeOfCustomerArrival(numberCustomerEvent-1, timeBetweenCustomerEvents) + timeBetweenCustomerEvents[numberCustomerEvent])"
   ]
  },
  {
   "cell_type": "code",
   "execution_count": 5,
   "metadata": {},
   "outputs": [],
   "source": [
    "timeBetweenMarketEvents = np.array([[[[random.uniform(0.8, 1.2) if numberReactionEvents != 1 and k==companyToWatch else 1.1 for _ in range(numberReactionEvents)] for k in range(numberPlayers)]for s in range(iterateSameStart)]for d in range(iterateDifferentStart)])\n",
    "\n",
    "first_reaction = np.array([[[random.uniform(0,1) for j in range(numberPlayers)]for s in range(iterateSameStart)]for d in range(iterateDifferentStart)])\n",
    "\n",
    "timeOfAdjustmentsCompany = np.array([[[[calculateTimeOfAdjustmentsCompany(i, j, timeBetweenMarketEvents[d,s], first_reaction[d,s]) for i in range(numberReactionEvents)] for j in range(numberPlayers)]for s in range(iterateSameStart)]for d in range(iterateDifferentStart)])\n",
    "\n",
    "priceAdjustmentsBeforeHorizon = np.array([[set([timeOfAdjustmentsCompany[d,s].flatten()[i] for i in range(len(timeOfAdjustmentsCompany[d,s].flatten())) if timeOfAdjustmentsCompany[d,s].flatten()[i] < timeHorizon])for s in range(iterateSameStart)]for d in range(iterateDifferentStart)])\n",
    "for d in range(iterateDifferentStart):\n",
    "    for s in range(iterateSameStart):\n",
    "        priceAdjustmentsBeforeHorizon[d,s].add(timeHorizon)\n",
    "priceAdjustmentsBeforeHorizon = np.array([[sorted(priceAdjustmentsBeforeHorizon[d,s])for s in range(iterateSameStart)]for d in range(iterateDifferentStart)])\n",
    "numberPriceAdjustmentsBeforeHorizon = np.array([[len(priceAdjustmentsBeforeHorizon[d,s])for s in range(iterateSameStart)]for d in range(iterateDifferentStart)])\n",
    "\n",
    "timePriceAdjustments = np.array([[[0 if i==0 else priceAdjustmentsBeforeHorizon[d,s][i-1] for i in range(numberPriceAdjustmentsBeforeHorizon[d,s]+1)]for s in range(iterateSameStart)]for d in range(iterateDifferentStart)])\n",
    "\n",
    "# we have to be careful because of the first timeslot\n",
    "timeBetweenAdjustments = np.array([[[timePriceAdjustments[d,s][i]-timePriceAdjustments[d,s][i-1] if i > 0 else timePriceAdjustments[d,s][i] for i in range(numberPriceAdjustmentsBeforeHorizon[d,s])]for s in range(iterateSameStart)]for d in range(iterateDifferentStart)])\n",
    "\n",
    "timeBetweenCustomerEvents = np.array([[[meanDifferenceCustomerArrival*np.random.exponential() for _ in range(numberCustomerEvents)]for _ in range(iterateSameStart)]for _ in range(iterateDifferentStart)])\n",
    "\n",
    "timeOfCustomerArrival = np.array([[[calculateTimeOfCustomerArrival(i, timeBetweenCustomerEvents[d,s]) for i in range(numberCustomerEvents)]for s in range(iterateSameStart)]for d in range(iterateDifferentStart)])    \n",
    "    \n",
    "companyAdjustingAtTime = np.array([[[min(np.where(timeOfAdjustmentsCompany[d,s]==timePriceAdjustments[d,s][i])[0])if timePriceAdjustments[d,s][i]!=timeHorizon and i!=0 else -1  for i in range(numberPriceAdjustmentsBeforeHorizon[d,s]+1)]for s in range(iterateSameStart)]for d in range(iterateDifferentStart)])    \n",
    "\n",
    "randomCustomerScoringQuality = np.array([[[random.uniform(0,1) for _ in range(numberCustomerEvents)]for s in range(iterateSameStart)]for d in range(iterateDifferentStart)])\n",
    "\n",
    "randomCustomerScoringRating = np.array([[[random.uniform(0,0.5) for _ in range(numberCustomerEvents)]for s in range(iterateSameStart)]for d in range(iterateDifferentStart)])"
   ]
  },
  {
   "cell_type": "code",
   "execution_count": 6,
   "metadata": {
    "collapsed": true
   },
   "outputs": [],
   "source": [
    "watchedCompany = companyToWatch\n",
    "\n",
    "countAdjustmentsWatchedCompany = np.array([[sum([1 for i in range(numberPriceAdjustmentsBeforeHorizon[d,s]) if companyAdjustingAtTime[d,s][i] == watchedCompany])+1 for s in range(iterateSameStart)] for d in range(iterateDifferentStart)])\n",
    "\n",
    "timeAdjustmentsWatchedCompany = np.array([[[timePriceAdjustments[d,s][i] for i in range(numberPriceAdjustmentsBeforeHorizon[d,s]) if companyAdjustingAtTime[d,s][i] == watchedCompany]for s in range(iterateSameStart)] for d in range(iterateDifferentStart)])\n",
    "np.array([[timeAdjustmentsWatchedCompany[d,s].insert(0,0) for s in range(iterateSameStart)] for d in range(iterateDifferentStart)])\n",
    "np.array([[timeAdjustmentsWatchedCompany[d,s].extend([timeHorizon]) for s in range(iterateSameStart)] for d in range(iterateDifferentStart)])\n",
    "\n",
    "timeBetweenAdjustmentsWatchedCompany = np.array([[[timeAdjustmentsWatchedCompany[d,s][i] - timeAdjustmentsWatchedCompany[d,s][i-1] for i in range(1, countAdjustmentsWatchedCompany[d,s])]for s in range(iterateSameStart)] for d in range(iterateDifferentStart)])"
   ]
  },
  {
   "cell_type": "code",
   "execution_count": 7,
   "metadata": {
    "collapsed": true
   },
   "outputs": [],
   "source": [
    "def price_if_smaller_else(price, price_smaller, else_min, prices_comp, c):\n",
    "    return(price if min(prices_comp[comp] for comp in range(numberPlayers) if comp!=c)< price_smaller else round(min([max(else_min, prices_comp[company]-0.5) for company in range(numberPlayers) if company != c]),2))\n",
    "\n",
    "s1 = {\n",
    "        '0' : lambda pricesCompanies, c: round(random.uniform(0,15),2),\n",
    "        '1' : lambda pricesCompanies, c: round(random.uniform(5,15),2),\n",
    "        '2' : lambda pricesCompanies, c: round(random.uniform(5,15),2),\n",
    "        '3' : lambda pricesCompanies, c: round(random.uniform(5,15),2),\n",
    "        '4' : lambda pricesCompanies, c: round(random.uniform(5,15),2)\n",
    "    }\n",
    "\n",
    "s2 = {\n",
    "        '0' : lambda pricesCompanies, c: price_if_smaller_else(10,5,4.9,pricesCompanies,c),\n",
    "        '1' : lambda pricesCompanies, c: price_if_smaller_else(10,5,4.9,pricesCompanies,c),\n",
    "        '2' : lambda pricesCompanies, c: price_if_smaller_else(10,5,4.9,pricesCompanies,c),\n",
    "        '3' : lambda pricesCompanies, c: price_if_smaller_else(10,5,4.9,pricesCompanies,c),\n",
    "        '4' : lambda pricesCompanies, c: price_if_smaller_else(10,5,4.9,pricesCompanies,c)\n",
    "    }\n",
    "\n",
    "s3 = {\n",
    "        '0' : lambda pricesCompanies, c: price_if_smaller_else(10,5,4.9,pricesCompanies,c),\n",
    "        '1' : lambda pricesCompanies, c: price_if_smaller_else(9,4,3.9,pricesCompanies,c),\n",
    "        '2' : lambda pricesCompanies, c: price_if_smaller_else(12,6,5.9,pricesCompanies,c),\n",
    "        '3' : lambda pricesCompanies, c: 11,\n",
    "        '4' : lambda pricesCompanies, c: 13\n",
    "    }"
   ]
  },
  {
   "cell_type": "code",
   "execution_count": 8,
   "metadata": {
    "collapsed": true
   },
   "outputs": [],
   "source": [
    "def explanatoryVariables(d, s, explanatoryVariable, countAdjustment, strat):\n",
    "    return {\n",
    "        '0' : 1,\n",
    "        '1' : priceRanksFirm[strat,d,s][countAdjustment],\n",
    "        '2' : 1 if priceRanksFirm[strat,d,s][countAdjustment]==1 else 0,\n",
    "        '3' : qualityRanksFirm[d],\n",
    "        '4' : ratingRanks[d,watchedCompany],\n",
    "        '5' : pricesTracked[strat,d,s][countAdjustment][watchedCompany],\n",
    "        '6' : pricesTracked[strat,d,s][countAdjustment][watchedCompany] - min([pricesTracked[strat,d,s][countAdjustment][j] for j in range(numberPlayers) if j!=watchedCompany]) if numberPlayers > 1 else 0,\n",
    "        '7' : qualityCompanies[d,watchedCompany],\n",
    "        '8' : ratingCompanies[d,watchedCompany],\n",
    "        '9' : 15 - (pricesTracked[strat,d,s][countAdjustment][watchedCompany]+0.5*qualityCompanies[d,watchedCompany]+0.25*(100-ratingCompanies[d,watchedCompany])) if(\n",
    "        (pricesTracked[strat,d,s][countAdjustment][watchedCompany]+0.5*qualityCompanies[d,watchedCompany]+0.25*(100-ratingCompanies[d,watchedCompany])) <\n",
    "        min([pricesTracked[strat,d,s][countAdjustment][j] +0.5*qualityCompanies[d,j]+0.25*(100-ratingCompanies[d,j]) for j in range(numberPlayers) if j!= watchedCompany]))\n",
    "        else 0,\n",
    "    }[str(explanatoryVariable)]\n",
    "\n",
    "def calculatePrices(pricesCompaniesAdjustments, adjustingFirm, strategy):\n",
    "    pricesCompaniesAdjustments = np.array(pricesCompaniesAdjustments)\n",
    "    for comp in range(numberPlayers):\n",
    "        pricesCompaniesAdjustments[0:, comp] = strategy[str(comp)](pricesCompaniesAdjustments[0],comp)\n",
    "    for i in range(1,len(pricesCompaniesAdjustments)-1):        \n",
    "        pricesCompaniesAdjustments[i:,adjustingFirm[i]] = strategy[str(adjustingFirm[i])](pricesCompaniesAdjustments[i-1],adjustingFirm[i])\n",
    "    pricesCompaniesAdjustments[len(pricesCompaniesAdjustments)-1] = pricesCompaniesAdjustments[len(pricesCompaniesAdjustments)-2]\n",
    "    return pricesCompaniesAdjustments"
   ]
  },
  {
   "cell_type": "code",
   "execution_count": 9,
   "metadata": {},
   "outputs": [],
   "source": [
    "gen = np.array([[[[x for x in range(numberCustomerEvents) if timePriceAdjustments[d,s][i]< timeOfCustomerArrival[d,s][x]<= timePriceAdjustments[d,s][i+1]] for i in range(numberPriceAdjustmentsBeforeHorizon[d,s])] for s in range(iterateSameStart)] for d in range(iterateDifferentStart)])\n",
    "\n",
    "arrival_out = np.array([[[np.array([(timeOfCustomerArrival[d,s,x],  x) for x in gen[d,s][i]]) for i in range(numberPriceAdjustmentsBeforeHorizon[d,s])]for s in range(iterateSameStart)] for d in range(iterateDifferentStart)])\n",
    "\n",
    "customerScoringQualityRating = np.array([[[[(randomCustomerScoringQuality[d,s,c]*qualityCompanies[d,k] +\n",
    "    randomCustomerScoringRating[d,s,c]*(100-ratingCompanies[d,k]))for k in range(numberPlayers)] for c in range(numberCustomerEvents)]for s in range(iterateSameStart)]for d in range(iterateDifferentStart)])\n",
    "pricesCompaniesAdjustments = np.array([[[[pricesCompanies[d,k]  for k in range(numberPlayers)]for _ in range(numberPriceAdjustmentsBeforeHorizon[d,s])]for s in range(iterateSameStart)] for d in range(iterateDifferentStart)] )\n",
    "pricesCompaniesAdjustments = np.array([[[np.array(calculatePrices(pricesCompaniesAdjustments[d,s], companyAdjustingAtTime[d,s], globals()[\"s{}\".format(strat+1)])) for s in range(iterateSameStart)] for d in range(iterateDifferentStart)]for strat in range(len(strategies))])\n",
    "\n",
    "customerScoring = np.array([[[[[[customerScoringQualityRating[d,s,c,k]+pricesCompaniesAdjustments[strat,d,s][i,k] for k in range(numberPlayers)] for c in gen[d,s][i]]for i in range(numberPriceAdjustmentsBeforeHorizon[d,s])]for s in range(iterateSameStart)]for d in range(iterateDifferentStart)]for strat in range(len(strategies))])\n",
    "customerDecision = np.array([[[[[np.argmin(customerScoring[strat,d,s][i][c]) if min(customerScoring[strat,d,s][i][c])< random.uniform(5,15) else -1 for c in range(len(gen[d,s][i]))] for i in range(numberPriceAdjustmentsBeforeHorizon[d,s])]for s in range(iterateSameStart)]for d in range(iterateDifferentStart)]for strat in range(len(strategies))])\n",
    "accumulatedProfit = np.array([[[[sum([sum([pricesCompaniesAdjustments[strat,d,s][i,k] if customerDecision[strat,d,s][i][c]==k else 0 for c in range(len(gen[d,s][i]))]) for i in range(numberPriceAdjustmentsBeforeHorizon[d,s])])for k in range(numberPlayers)]for s in range(iterateSameStart)]for d in range(iterateDifferentStart)]for strat in range(len(strategies))])\n",
    "buying_out = np.array([[[[[[timeOfCustomerArrival[d,s][gen[d,s][i][c]], pricesCompaniesAdjustments[strat,d,s][i,customerDecision[strat,d,s][i][c]], gen[d,s][i][c], customerDecision[strat,d,s][i][c]] for c in range(len(gen[d,s][i])) if customerDecision[strat,d,s][i][c]!=-1] for i in range(numberPriceAdjustmentsBeforeHorizon[d,s])] for s in range(iterateSameStart)]for d in range(iterateDifferentStart)]for strat in range(len(strategies))])\n",
    "traject_out = np.array([[[[[[pricesCompaniesAdjustments[strat,d,s][i,k], timePriceAdjustments[d,s][i] ,k] for k in range(numberPlayers)] for i in range(numberPriceAdjustmentsBeforeHorizon[d,s])] for s in range(iterateSameStart)]for d in range(iterateDifferentStart)]for strat in range(len(strategies))])\n",
    "pricesTracked = np.array([[[[[pricesCompaniesAdjustments[strat,d,s][i,k] for k in range(numberPlayers) if companyAdjustingAtTime[d,s][i]==watchedCompany or timePriceAdjustments[d,s][i]==0] for i in range(numberPriceAdjustmentsBeforeHorizon[d,s]+1)]for s in range(iterateSameStart)]for d in range(iterateDifferentStart)]for strat in range(len(strategies))])\n",
    "pricesTracked = np.array([[[[x for x in pricesTracked[strat,d,s] if x != []] for s in range(iterateSameStart)]for d in range(iterateDifferentStart)]for strat in range(len(strategies))])\n",
    "\n",
    "indexTimeAdjustments = np.array([[[[[x for x in range(numberPriceAdjustmentsBeforeHorizon[d,s]+1) if timePriceAdjustments[d,s][x]==timeAdjustmentsWatchedCompany[d,s][i]] for i in range(countAdjustmentsWatchedCompany[d,s]+1)]for s in range(iterateSameStart)]for d in range(iterateDifferentStart)]for strat in range(len(strategies))])\n",
    "\n",
    "salesBetweenAdjustments = np.array([[[[sum([sum([1 for c in range(len(gen[d,s][j])) if customerDecision[strat,d,s][j][c]==watchedCompany])for j in range(numberPriceAdjustmentsBeforeHorizon[d,s]) if j>=indexTimeAdjustments[strat,d,s][i][0] and j<indexTimeAdjustments[strat,d,s][i+1][0]]) for i in range(countAdjustmentsWatchedCompany[d,s])]for s in range(iterateSameStart)]for d in range(iterateDifferentStart)]for strat in range(len(strategies))])\n",
    "\n",
    "priceRanksFirm = np.array([[[[1 +  \n",
    "          sum([1 for i in range(numberPlayers) if pricesTracked[strat,d,s][j][watchedCompany]> pricesTracked[strat,d,s][j][i] and i!=watchedCompany]) +\n",
    "          sum([1 for i in range(numberPlayers) if pricesTracked[strat,d,s][j][watchedCompany]== pricesTracked[strat,d,s][j][i] and i!=watchedCompany])/2\n",
    "          for j in range(countAdjustmentsWatchedCompany[d,s])]for s in range(iterateSameStart)] for d in range(iterateDifferentStart)]for strat in range(len(strategies))])\n",
    "\n",
    "qualityRanksFirm = np.array([1 +  \n",
    "          sum([1 for i in range(numberPlayers) if qualityCompanies[d,watchedCompany]> qualityCompanies[d,i] and i!=watchedCompany]) +\n",
    "          sum([1 for i in range(numberPlayers) if qualityCompanies[d,watchedCompany]== qualityCompanies[d,i] and i!=watchedCompany])/2\n",
    "          for d in range(iterateDifferentStart)])\n",
    "\n",
    "ratingRanks = np.array([[1 +  \n",
    "          sum([1 for i in range(numberPlayers) if ratingCompanies[d,j]> ratingCompanies[d,i] and i!=j]) +\n",
    "          sum([1 for i in range(numberPlayers) if ratingCompanies[d,j]== ratingCompanies[d,i] and i!=j])/2\n",
    "          for j in range(numberPlayers)] for d in range(iterateDifferentStart)])\n",
    "\n",
    "for strat in range(len(strategies)):\n",
    "    currentLine = 0\n",
    "    with open('demand_learning_data_{}.csv'.format(strategies[strat]), 'w') as file:\n",
    "        writer = csv.writer(file, delimiter='\\t')\n",
    "        for d in range(iterateDifferentStart):\n",
    "            for s in range(iterateSameStart):\n",
    "                for w in range(countAdjustmentsWatchedCompany[d,s]):\n",
    "                    currentLine = currentLine +1\n",
    "                    line = list([currentLine])\n",
    "                    for k in range(1,10):\n",
    "                        line.append(explanatoryVariables(d, s, k, w, strat))\n",
    "                    line.append(salesBetweenAdjustments[strat,d,s][w])\n",
    "                    writer.writerow(line)"
   ]
  },
  {
   "cell_type": "markdown",
   "metadata": {},
   "source": [
    "Illustrates examples of price trajectories over time as well as the arrival of interested (indicated by vertical bars on the x-axis) and buying customers (indicated by dots) in case of K=5.\n",
    "Note, due to different qualities and ratings of competitors customers do not always choose the cheapest competitor."
   ]
  },
  {
   "cell_type": "code",
   "execution_count": 10,
   "metadata": {},
   "outputs": [
    {
     "data": {
      "image/png": "[encoded data removed]",
      "text/plain": [
       "<matplotlib.figure.Figure at 0x10d774cc0>"
      ]
     },
     "metadata": {},
     "output_type": "display_data"
    },
    {
     "data": {
      "image/png": "[encoded data removed]",
      "text/plain": [
       "<matplotlib.figure.Figure at 0x11c292e48>"
      ]
     },
     "metadata": {},
     "output_type": "display_data"
    },
    {
     "data": {
      "image/png": "[encoded data removed]",
      "text/plain": [
       "<matplotlib.figure.Figure at 0x11f9fd668>"
      ]
     },
     "metadata": {},
     "output_type": "display_data"
    }
   ],
   "source": [
    "last_time = 8\n",
    "adjustments = [t for t in range(numberPriceAdjustmentsBeforeHorizon[0,0]) if traject_out[0,0,0][t][0][1]<last_time]\n",
    "colors = [\"blue\",\"green\",\"yellow\",\"red\",\"magenta\"]\n",
    "companies = range(numberPlayers)\n",
    "arrivals = np.concatenate(np.array([arrival_out[0,0][t] for t in adjustments if arrival_out[0,0][t].size]).squeeze())\n",
    "if arrivals.ndim == 1:\n",
    "    arrivals = (np.array([arrival_out[0,0][t] for t in adjustments if arrival_out[0,0][t].size]).squeeze())\n",
    "arrivals = np.array([arrival for arrival in arrivals if arrival[0]<last_time])\n",
    "for strat in range(len(strategies)):\n",
    "    plt.step([traject_out[strat,0,0][t][0][1] for t in adjustments], [traject_out[strat,0,0][t][0][0] for t in adjustments], 'b-', label='Firm 1', where=\"post\")\n",
    "    plt.step([traject_out[strat,0,0][t][0][1] for t in adjustments], [traject_out[strat,0,0][t][1][0] for t in adjustments], 'g-', label='Firm 2', where=\"post\")\n",
    "    plt.step([traject_out[strat,0,0][t][0][1] for t in adjustments], [traject_out[strat,0,0][t][2][0] for t in adjustments], 'y-', label='Firm 3', where=\"post\")\n",
    "    plt.step([traject_out[strat,0,0][t][0][1] for t in adjustments], [traject_out[strat,0,0][t][3][0] for t in adjustments], 'r-', label='Firm 4', where=\"post\")\n",
    "    plt.step([traject_out[strat,0,0][t][0][1] for t in adjustments], [traject_out[strat,0,0][t][4][0] for t in adjustments], 'm-', label='Firm 5', where=\"post\")\n",
    "    plt.legend(bbox_to_anchor=(1.05, 1), loc=2, borderaxespad=0.)\n",
    "    buying_data = np.concatenate([x for x in [buying_out[strat,0,0][t] for t in adjustments] if x != []])\n",
    "    buying_data = np.array([buying for buying in buying_data if buying[0]<last_time])\n",
    "    for color, company in zip(colors, companies):\n",
    "        buying_data_comp = np.array([buying_data[x] for x in range(len(buying_data)) if buying_data[x,3]==company])\n",
    "        if len(buying_data_comp>0):\n",
    "            plt.scatter(buying_data_comp[:,0] ,buying_data_comp[:,1], c = color)\n",
    "    plt.plot(arrivals[:,0],[0 for _ in arrivals[:,0]],'k|')\n",
    "    plt.xlabel('t')\n",
    "    plt.ylabel('p$_t$(k)')\n",
    "    plt.title('Setup {}'.format(strat+1))\n",
    "    plt.show()"
   ]
  },
  {
   "cell_type": "code",
   "execution_count": null,
   "metadata": {
    "collapsed": true
   },
   "outputs": [],
   "source": []
  }
 ],
 "metadata": {
  "kernelspec": {
   "display_name": "Python 3",
   "language": "python",
   "name": "python3"
  },
  "language_info": {
   "codemirror_mode": {
    "name": "ipython",
    "version": 3
   },
   "file_extension": ".py",
   "mimetype": "text/x-python",
   "name": "python",
   "nbconvert_exporter": "python",
   "pygments_lexer": "ipython3",
   "version": "3.6.3"
  }
 },
 "nbformat": 4,
 "nbformat_minor": 2
}
