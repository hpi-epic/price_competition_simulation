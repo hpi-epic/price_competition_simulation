{
 "cells": [
  {
   "cell_type": "markdown",
   "metadata": {},
   "source": [
    "This notebooks works like the monte_carlo notebook, except with only one price and one market situation.\n",
    "The time between adjustmensts of prices gets split into B parts and for each purchase the time slot o fit is tracked. At the end, it creates a graph. The time horizon is 1."
   ]
  },
  {
   "cell_type": "code",
   "execution_count": 1,
   "metadata": {
    "collapsed": true
   },
   "outputs": [],
   "source": [
    "import numpy as np\n",
    "import random\n",
    "import csv\n",
    "import matplotlib.pyplot as plt\n",
    "import pandas as pd"
   ]
  },
  {
   "cell_type": "code",
   "execution_count": 2,
   "metadata": {
    "collapsed": true
   },
   "outputs": [],
   "source": [
    "num_firm = 5\n",
    "time_horizon = 1\n",
    "num_market_events = round(1.1*time_horizon)\n",
    "mean_betw_customer_arrival = 2\n",
    "num_customer_events = round(1.1*time_horizon/mean_betw_customer_arrival) \n",
    "watched_firm = 0\n",
    "num_sims = 10000  \n",
    "reaction_time_firm = time_horizon\n",
    "intensity_price = 7\n",
    "bb = 20\n",
    "strategies = [\"S1\",\"S2\",\"S3\"]\n",
    "random.seed(12479498)\n",
    "#betw = between"
   ]
  },
  {
   "cell_type": "code",
   "execution_count": 3,
   "metadata": {
    "collapsed": true
   },
   "outputs": [],
   "source": [
    "prices_firm = np.array([\n",
    "    round(random.uniform(6,16),2) \n",
    "    for _ in range(num_firm)])"
   ]
  },
  {
   "cell_type": "code",
   "execution_count": 4,
   "metadata": {
    "collapsed": true
   },
   "outputs": [],
   "source": [
    "def price_if_smaller_else(price, price_threshold, min_price, prices_firm, c):\n",
    "    return(\n",
    "        price \n",
    "        if min([prices_firm[c] for firm in range(num_firm) if firm!=c]) < price_threshold \n",
    "        else round(\n",
    "            min([\n",
    "                    max(min_price, prices_firm[firm] - 0.5) for firm in range(num_firm) if firm != c])\n",
    "            ,2))\n",
    "\n",
    "s1 = {\n",
    "        '0' : lambda prices_firm, c: round(random.uniform(0,15),2),\n",
    "        '1' : lambda prices_firm, c: round(random.uniform(5,15),2),\n",
    "        '2' : lambda prices_firm, c: round(random.uniform(5,15),2),\n",
    "        '3' : lambda prices_firm, c: round(random.uniform(5,15),2),\n",
    "        '4' : lambda prices_firm, c: round(random.uniform(5,15),2)\n",
    "    }\n",
    "\n",
    "s2 = {\n",
    "        '0' : lambda prices_firm, c: price_if_smaller_else(10,5,4.9,prices_firm,c),\n",
    "        '1' : lambda prices_firm, c: price_if_smaller_else(10,5,4.9,prices_firm,c),\n",
    "        '2' : lambda prices_firm, c: price_if_smaller_else(10,5,4.9,prices_firm,c),\n",
    "        '3' : lambda prices_firm, c: price_if_smaller_else(10,5,4.9,prices_firm,c),\n",
    "        '4' : lambda prices_firm, c: price_if_smaller_else(10,5,4.9,prices_firm,c)\n",
    "    }\n",
    "\n",
    "s3 = {\n",
    "        '0' : lambda prices_firm, c: price_if_smaller_else(10,5,4.9,prices_firm,c),\n",
    "        '1' : lambda prices_firm, c: price_if_smaller_else(9,4,3.9,prices_firm,c),\n",
    "        '2' : lambda prices_firm, c: price_if_smaller_else(12,6,5.9,prices_firm,c),\n",
    "        '3' : lambda prices_firm, c: 11,\n",
    "        '4' : lambda prices_firm, c: 13\n",
    "    }"
   ]
  },
  {
   "cell_type": "code",
   "execution_count": 5,
   "metadata": {
    "collapsed": true
   },
   "outputs": [],
   "source": [
    "def calc_prices(prices_firm_adjust, adjusting_firm, strategy):\n",
    "    prices_firm_adjust = np.array(prices_firm_adjust)\n",
    "    for i in range(1,len(prices_firm_adjust)-1):        \n",
    "        prices_firm_adjust[i:,adjusting_firm[i]] = strategy[str(adjusting_firm[i])](prices_firm_adjust[i-1],adjusting_firm[i])\n",
    "    prices_firm_adjust[len(prices_firm_adjust)-1] = prices_firm_adjust[len(prices_firm_adjust)-2]\n",
    "    return prices_firm_adjust"
   ]
  },
  {
   "cell_type": "code",
   "execution_count": null,
   "metadata": {},
   "outputs": [],
   "source": [
    "num_market_events = 2\n",
    "num_customer_events = 4\n",
    "\n",
    "time_betw_market_events_firm = np.random.uniform(0.8,1.2, (num_sims, num_firm, num_market_events))\n",
    "\n",
    "time_adjusts_firm = time_betw_market_events_firm\n",
    "time_adjusts_firm[:,:,0] = np.random.uniform(0, 1, (num_sims, num_firm))\n",
    "for sim_num in range(num_sims):\n",
    "    for firm in range(num_firm):\n",
    "        for i in range(1, num_market_events):\n",
    "            time_adjusts_firm[sim_num, firm, i] = (time_adjusts_firm[sim_num, firm, i-1] + \n",
    "                                                   time_betw_market_events_firm[sim_num, firm, i])\n",
    "for sim_num in range(num_sims):\n",
    "    time_adjusts_firm[sim_num, watched_firm] = time_horizon\n",
    "    \n",
    "price_adjusts_before_horizon = np.array(\n",
    "    [\n",
    "        set([\n",
    "            time_adjusts_firm[sim_num].flatten()[i] \n",
    "            for i in range(len(time_adjusts_firm[sim_num].flatten())) \n",
    "            if time_adjusts_firm[sim_num].flatten()[i] < time_horizon]) \n",
    "        for sim_num in range(num_sims)])\n",
    "\n",
    "price_adjusts_before_horizon = np.array(\n",
    "    [\n",
    "        sorted(price_adjusts_before_horizon[sim_num])+[time_horizon] \n",
    "        for sim_num in range(num_sims)])\n",
    "\n",
    "num_price_adjusts_before_horizon = np.array(\n",
    "    [\n",
    "        len(price_adjusts_before_horizon[sim_num]) \n",
    "        for sim_num in range(num_sims)])\n",
    "\n",
    "time_market_events = np.array(\n",
    "    [[\n",
    "            0 \n",
    "            for i in range(num_price_adjusts_before_horizon[sim_num]+1)]\n",
    "        for sim_num in range(num_sims)])\n",
    "\n",
    "for sim_num in range(num_sims):\n",
    "    for i in range(num_price_adjusts_before_horizon[sim_num]):\n",
    "        time_market_events[sim_num][i+1] = price_adjusts_before_horizon[sim_num][i] \n",
    "\n",
    "adjusting_firm = np.array(\n",
    "    [[\n",
    "            min(np.where(time_adjusts_firm[sim_num]==price_adjusts_before_horizon[sim_num][i] )[0]) \n",
    "            if price_adjusts_before_horizon[sim_num][i]!= time_horizon and i!=0 \n",
    "            else -1 \n",
    "            for i in range(num_price_adjusts_before_horizon[sim_num])] \n",
    "        for sim_num in range(num_sims)])\n",
    "\n",
    "time_betw_customer_events = mean_betw_customer_arrival* np.random.exponential(size=(num_sims, num_customer_events)) \n",
    "time_customer_events = np.array(\n",
    "    [[\n",
    "            time_betw_customer_events[sim_num, customer] \n",
    "            for customer in range(num_customer_events)] \n",
    "        for sim_num in range(num_sims)])\n",
    "for sim_num in range(num_sims):\n",
    "    for customer in range(1, num_customer_events):\n",
    "        time_customer_events[sim_num, customer] = (time_customer_events[sim_num, customer-1] + \n",
    "                                                   time_betw_customer_events[sim_num, customer])\n",
    "\n",
    "rand_customer_score_qual = np.random.uniform(0,1, (num_sims, num_customer_events))\n",
    "\n",
    "rand_customer_score_rating = rand_customer_score_qual = np.random.uniform(0,0.5, (num_sims, num_customer_events))\n",
    "\n",
    "customer_score_qual_rating = np.zeros(shape=(num_sims, num_customer_events, num_firm))\n",
    "\n",
    "for sim_num in range(num_sims):\n",
    "    for customer in range(num_customer_events):\n",
    "        customer_score_qual_rating[sim_num, customer, :] = (rand_customer_score_qual[sim_num, customer]*2 + \n",
    "                                                            rand_customer_score_rating[sim_num, customer]*(100-98))\n",
    "\n",
    "prices_firm = np.array(\n",
    "    [\n",
    "        intensity_price+20.5+2*(k-2) \n",
    "        if k!=watched_firm \n",
    "        else intensity_price  \n",
    "        for k in range(num_firm)])\n",
    "prices_firm_adjust = np.array(\n",
    "    [[[\n",
    "                prices_firm[k]  \n",
    "                for k in range(num_firm)]\n",
    "            for _ in range(num_price_adjusts_before_horizon[s])] \n",
    "        for s in range(num_sims)])\n",
    "prices_firm_adjust = np.array(\n",
    "    [[\n",
    "            np.array(calc_prices(prices_firm_adjust[s], adjusting_firm[s], globals()[\"s{}\".format(strat+1)])) \n",
    "            for s in range(num_sims)]\n",
    "        for strat in range(len(strategies))])\n",
    "\n",
    "gen = np.array(\n",
    "    [[\n",
    "            list([\n",
    "                x \n",
    "                for x in range(num_customer_events) \n",
    "                if time_market_events[s][i]< time_customer_events[s][x]< time_market_events[s][i+1]]) \n",
    "            for i in range(num_price_adjusts_before_horizon[s])] \n",
    "        for s in range(num_sims)] )\n",
    "\n",
    "rand_customer_score = np.array(\n",
    "    [[[[[\n",
    "                        (prices_firm_adjust[strat,s][i,k] + customer_score_qual_rating[s,c,k]) \n",
    "                        for k in range(num_firm)]\n",
    "                    for c in gen[s][i]]\n",
    "                for i in range(num_price_adjusts_before_horizon[s])] \n",
    "            for s in range(num_sims)]\n",
    "        for strat in range(len(strategies))])\n",
    "rand_customer_decision = np.array(\n",
    "    [[[[\n",
    "                    np.argmin(rand_customer_score[strat,s][i][c]) \n",
    "                    if min(rand_customer_score[strat,s][i][c])< random.uniform(5,15) \n",
    "                    else -1 \n",
    "                    for c in range(len(gen[s][i]))]\n",
    "                for i in range(num_price_adjusts_before_horizon[s])] \n",
    "            for s in range(num_sims)]\n",
    "        for strat in range(len(strategies))])\n",
    "\n",
    "b = np.array(\n",
    "    [[[\n",
    "                int(round((time_customer_events[s][c]+1/bb/2)*bb))\n",
    "                for c in range(len(gen[s][i]))]\n",
    "            for i in range(num_price_adjusts_before_horizon[s])] \n",
    "        for s in range(num_sims)])\n",
    "\n",
    "At = np.array(\n",
    "    [[[\n",
    "                sum([\n",
    "                     sum([\n",
    "                          sum([\n",
    "                               1 \n",
    "                               if b[s][i][c]==t and rand_customer_decision[strat,s][i][c]==k  \n",
    "                               else 0 \n",
    "                               for c in range(len(gen[s][i]))])\n",
    "                          for i in range(num_price_adjusts_before_horizon[s])])\n",
    "                     for s in range(num_sims)])\n",
    "                for k in range(num_firm)]\n",
    "            for t in range(reaction_time_firm*bb+1)]\n",
    "        for strat in range(len(strategies))])\n",
    "                        \n",
    "x = [\n",
    "        t/bb \n",
    "        for t in range(1,reaction_time_firm*bb+1)]\n",
    "\n",
    "plt.plot(x, [At[0,t][watched_firm]/num_sims*bb for t in range(1,len(x)+1)], 'b-', label='S1')\n",
    "plt.plot(x, [At[1,t][watched_firm]/num_sims*bb for t in range(1,len(x)+1)], 'r-', label='S2')\n",
    "plt.plot(x, [At[2,t][watched_firm]/num_sims*bb for t in range(1,len(x)+1)], 'g-', label='S3')\n",
    "plt.legend(loc='best')\n",
    "plt.xlabel('t')\n",
    "plt.ylabel('E(λ$_t$)')"
   ]
  },
  {
   "cell_type": "markdown",
   "metadata": {},
   "source": [
    "Simulated expected sales intensities of firm 1 over one period of time time for different firmetitive setups (i)-(iii), starting in market situation s0 , cf."
   ]
  },
  {
   "cell_type": "code",
   "execution_count": 7,
   "metadata": {},
   "outputs": [
    {
     "data": {
      "image/png": "[encoded data removed]",
      "text/plain": [
       "<matplotlib.figure.Figure at 0x112e65438>"
      ]
     },
     "metadata": {},
     "output_type": "display_data"
    }
   ],
   "source": [
    "plt.show()"
   ]
  },
  {
   "cell_type": "code",
   "execution_count": null,
   "metadata": {
    "collapsed": true
   },
   "outputs": [],
   "source": []
  }
 ],
 "metadata": {
  "kernelspec": {
   "display_name": "Python 3",
   "language": "python",
   "name": "python3"
  },
  "language_info": {
   "codemirror_mode": {
    "name": "ipython",
    "version": 3
   },
   "file_extension": ".py",
   "mimetype": "text/x-python",
   "name": "python",
   "nbconvert_exporter": "python",
   "pygments_lexer": "ipython3",
   "version": "3.6.3"
  }
 },
 "nbformat": 4,
 "nbformat_minor": 2
}
