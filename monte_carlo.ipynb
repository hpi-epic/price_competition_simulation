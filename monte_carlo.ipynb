{
 "cells": [
  {
   "cell_type": "markdown",
   "metadata": {},
   "source": [
    "# Monte Carlo\n",
    "\n",
    "This notebook creates two files. For a given number of market situations and a given set of prices, it creates features and saves them in the `demand_prediction_data` file. Next, for each market situation and each price, the notebook runs multiple simulations and tracks purchases. The notebook then calculates the probabilities of a purchase for each price and market situation and stores them in the `PEW_comparison` file. The time horizon is 1.\n",
    "\n",
    "Because of performance reasons the number of simulations and the number of considered market situations used in the start configuration are smaller than the ones used for the data for the paper. The inline comments show the values used in the paper, which lead to a longer runtime."
   ]
  },
  {
   "cell_type": "code",
   "execution_count": null,
   "metadata": {
    "collapsed": true
   },
   "outputs": [],
   "source": [
    "import numpy as np\n",
    "import random\n",
    "import csv\n",
    "import matplotlib.pyplot as plt\n",
    "import pandas as pd"
   ]
  },
  {
   "cell_type": "code",
   "execution_count": null,
   "metadata": {
    "collapsed": true
   },
   "outputs": [],
   "source": [
    "numberPlayers = 5\n",
    "timeHorizon = 1\n",
    "numberMarketReactionEvents = round(1.1*timeHorizon)\n",
    "meanTimeBetweenCustomerArrival = 2\n",
    "numberOfCustomerEvents = round(1.1*timeHorizon/meanTimeBetweenCustomerArrival)\n",
    "prices = np.arange(0,15.1,0.2)   # values used for paper: (np.arange(0,15.1,0.1))\n",
    "watchedCompany = 0\n",
    "numberSimulations = 100  # value used for paper: 10000\n",
    "numberConsideredMarketSituations = 10   # value used for paper: 40\n",
    "m = 2\n",
    "numberCustomerEvents = 4\n",
    "reactionTimeCompany = timeHorizon\n",
    "strategies = [\"S1\",\"S2\",\"S3\"]\n",
    "random.seed(12530586)"
   ]
  },
  {
   "cell_type": "code",
   "execution_count": null,
   "metadata": {
    "collapsed": true
   },
   "outputs": [],
   "source": [
    "pricesCompanies = np.array([round(random.uniform(6,16),2) for _ in range(numberPlayers)])\n",
    "qualityCompanies = np.array([round(random.uniform(0.5,5.5)) for _ in range(numberPlayers)])\n",
    "ratingCompanies = np.array([round(random.uniform(90,100),1) for _ in range(numberPlayers)])"
   ]
  },
  {
   "cell_type": "code",
   "execution_count": null,
   "metadata": {
    "collapsed": true
   },
   "outputs": [],
   "source": [
    "def explanatoryVariables(explanatoryVariable, numberPrice, marketSituation):\n",
    "    return {\n",
    "        '0' : 1,\n",
    "        '1' : priceRanksForFirm[marketSituation][numberPrice],\n",
    "        '2' : 1 if priceRanksForFirm[marketSituation][numberPrice]==1 else 0,\n",
    "        '3' : qualityRankForFirm[marketSituation],\n",
    "        '4' : ratingRanks[marketSituation][watchedCompany],\n",
    "        '5' : prices[numberPrice],\n",
    "        '6' : prices[numberPrice] - min([pricesCompaniesPred[j][marketSituation] for j in range(numberPlayers) if j!=watchedCompany]) if numberPlayers > 1 else 0,\n",
    "        '7' : qualityCompaniesPred[watchedCompany][marketSituation],\n",
    "        '8' : ratingCompaniesPred[watchedCompany][marketSituation],\n",
    "        '9' : 15 - (prices[numberPrice]+0.5*qualityCompaniesPred[watchedCompany][marketSituation]+0.25*(100-ratingCompaniesPred[watchedCompany][marketSituation])) if(\n",
    "        (prices[numberPrice]+0.5*qualityCompaniesPred[watchedCompany][marketSituation]+0.25*(100-ratingCompaniesPred[watchedCompany][marketSituation])) <\n",
    "        min([pricesCompaniesPred[j][marketSituation] +0.5*qualityCompaniesPred[j][marketSituation]+0.25*(100-ratingCompaniesPred[j][marketSituation]) for j in range(numberPlayers) if j!= watchedCompany]))\n",
    "        else 0,\n",
    "    }[str(explanatoryVariable)]"
   ]
  },
  {
   "cell_type": "code",
   "execution_count": null,
   "metadata": {
    "collapsed": true
   },
   "outputs": [],
   "source": [
    "pricesCompaniesPred = np.array([[round(random.uniform(6,16),2) for _ in range(numberConsideredMarketSituations)]  for _ in range(numberPlayers)])\n",
    "qualityCompaniesPred = np.array([[round(random.uniform(0.5,5.5)) for _ in range(numberConsideredMarketSituations)]  for _ in range(numberPlayers)])\n",
    "ratingCompaniesPred = np.array([[round(random.uniform(90,100),1) for _ in range(numberConsideredMarketSituations)] for _ in range(numberPlayers)])\n",
    "\n",
    "priceRanksForFirm = np.array([[1 +  \n",
    "              sum([1 for i in range(numberPlayers) if prices[j]> pricesCompaniesPred[i][w] and i!=watchedCompany]) +\n",
    "              sum([1 for i in range(numberPlayers) if prices[j]== pricesCompaniesPred[i][w] and i!=watchedCompany])/2\n",
    "              for j in range(len(prices))]for w in range(numberConsideredMarketSituations)])\n",
    "qualityRankForFirm = np.array([(1 +  \n",
    "              sum([1 for i in range(numberPlayers) if qualityCompaniesPred[watchedCompany][w]> qualityCompaniesPred[i][w] and i!=watchedCompany]) +\n",
    "              sum([1 for i in range(numberPlayers) if qualityCompaniesPred[watchedCompany][w]== qualityCompaniesPred[i][w] and i!=watchedCompany])/2)for w in range(numberConsideredMarketSituations)])\n",
    "                         \n",
    "ratingRanks = np.array([[1 +  \n",
    "              sum([1 for i in range(numberPlayers) if ratingCompaniesPred[j][w]> ratingCompaniesPred[i][w] and i!=j]) +\n",
    "              sum([1 for i in range(numberPlayers) if ratingCompaniesPred[j][w]== ratingCompaniesPred[i][w] and i!=j])/2\n",
    "              for j in range(numberPlayers)]for w in range(numberConsideredMarketSituations)])\n",
    "\n",
    "numberExplanatoryVariables = 10\n",
    "\n",
    "valuesExplanatoryVariables = [[[explanatoryVariables(explanatoryVariable, numberPrice, w) for explanatoryVariable in range(numberExplanatoryVariables)] for numberPrice in range(len(prices))]for w in range(numberConsideredMarketSituations)]\n",
    "\n",
    "with open('demand_prediction_data_S3.csv', 'w') as file:\n",
    "    writer = csv.writer(file, delimiter='\\t')\n",
    "    for marketSituation in range(numberConsideredMarketSituations):\n",
    "        for numberPrice in range(len(prices)):\n",
    "            line = list(valuesExplanatoryVariables[marketSituation][numberPrice])\n",
    "            line.remove(1)\n",
    "            line.insert(0, prices[numberPrice])\n",
    "            line.insert(0, marketSituation+1)\n",
    "            writer.writerow(line)"
   ]
  },
  {
   "cell_type": "code",
   "execution_count": null,
   "metadata": {
    "collapsed": true
   },
   "outputs": [],
   "source": [
    "def price_if_smaller_else(price, price_smaller, else_min, prices_comp, c):\n",
    "    return(price if min(prices_comp[comp] for comp in range(numberPlayers) if comp!=c)< price_smaller else round(min([max(else_min, prices_comp[company]-0.5) for company in range(numberPlayers) if company != c]),2))\n",
    "\n",
    "s1 = {\n",
    "        '0' : lambda pricesCompanies, c: round(random.uniform(0,15),2),\n",
    "        '1' : lambda pricesCompanies, c: round(random.uniform(5,15),2),\n",
    "        '2' : lambda pricesCompanies, c: round(random.uniform(5,15),2),\n",
    "        '3' : lambda pricesCompanies, c: round(random.uniform(5,15),2),\n",
    "        '4' : lambda pricesCompanies, c: round(random.uniform(5,15),2)\n",
    "    }\n",
    "\n",
    "s2 = {\n",
    "        '0' : lambda pricesCompanies, c: price_if_smaller_else(10,5,4.9,pricesCompanies,c),\n",
    "        '1' : lambda pricesCompanies, c: price_if_smaller_else(10,5,4.9,pricesCompanies,c),\n",
    "        '2' : lambda pricesCompanies, c: price_if_smaller_else(10,5,4.9,pricesCompanies,c),\n",
    "        '3' : lambda pricesCompanies, c: price_if_smaller_else(10,5,4.9,pricesCompanies,c),\n",
    "        '4' : lambda pricesCompanies, c: price_if_smaller_else(10,5,4.9,pricesCompanies,c)\n",
    "    }\n",
    "\n",
    "s3 = {\n",
    "        '0' : lambda pricesCompanies, c: price_if_smaller_else(10,5,4.9,pricesCompanies,c),\n",
    "        '1' : lambda pricesCompanies, c: price_if_smaller_else(9,4,3.9,pricesCompanies,c),\n",
    "        '2' : lambda pricesCompanies, c: price_if_smaller_else(12,6,5.9,pricesCompanies,c),\n",
    "        '3' : lambda pricesCompanies, c: round(random.uniform(11,11),2),\n",
    "        '4' : lambda pricesCompanies, c: round(random.uniform(13,13),2)\n",
    "    }"
   ]
  },
  {
   "cell_type": "code",
   "execution_count": null,
   "metadata": {
    "collapsed": true
   },
   "outputs": [],
   "source": [
    "def calculateTimeOfAdjustmentsCompany(company, i, timeBetweenMarketEventsCompany):\n",
    "    if i==0:\n",
    "        if company != watchedCompany:\n",
    "            return(random.uniform(0,1))\n",
    "        else:\n",
    "            return(reactionTimeCompany)\n",
    "    else:\n",
    "        return(calculateTimeOfAdjustmentsCompany(company, i-1, timeBetweenMarketEventsCompany)+ timeBetweenMarketEventsCompany[company][i])\n",
    "    \n",
    "def calculateTimeOfCustomerArrival(customer, timeBetweenMarketEventsCustomer):\n",
    "    if customer==0:\n",
    "        return timeBetweenMarketEventsCustomer[customer]\n",
    "    else:\n",
    "        return(calculateTimeOfCustomerArrival(customer-1, timeBetweenMarketEventsCustomer) + timeBetweenMarketEventsCustomer[customer])\n",
    "\n",
    "def calculatePrices(pricesCompaniesAdjustments, adjustingFirm, strategy):\n",
    "    for i in range(1,len(pricesCompaniesAdjustments)-1):        \n",
    "        pricesCompaniesAdjustments[i][adjustingFirm[i]] = strategy[str(adjustingFirm[i])](pricesCompaniesAdjustments[i-1],adjustingFirm[i])\n",
    "    pricesCompaniesAdjustments[len(pricesCompaniesAdjustments)-1] = pricesCompaniesAdjustments[len(pricesCompaniesAdjustments)-2]\n",
    "    return pricesCompaniesAdjustments"
   ]
  },
  {
   "cell_type": "code",
   "execution_count": null,
   "metadata": {},
   "outputs": [],
   "source": [
    "timeBetweenMarketEventsCompany = np.array([[[[[random.uniform(0.8,1.2) for i in range(m)] for company in range(numberPlayers)] for _ in range(numberSimulations)]for w in range(numberConsideredMarketSituations)] for _ in range(len(prices))])\n",
    "timeOfAdjustmentsCompany = np.array([[[[[calculateTimeOfAdjustmentsCompany(company ,i, timeBetweenMarketEventsCompany[p,w,simulationNumber]) for i in range(m)] for company in range(numberPlayers)] for simulationNumber in range(numberSimulations)]for w in range(numberConsideredMarketSituations)]for p in range(len(prices))])\n",
    "priceAdjustmentsBeforeHorizon = np.array([[[set([timeOfAdjustmentsCompany[p,w,simulationNumber].flatten()[i] for i in range(len(timeOfAdjustmentsCompany[p,w,simulationNumber].flatten())) if timeOfAdjustmentsCompany[p,w,simulationNumber].flatten()[i] < timeHorizon]) for simulationNumber in range(numberSimulations)]for w in range(numberConsideredMarketSituations)]for p in range(len(prices))])\n",
    "\n",
    "priceAdjustmentsBeforeHorizon = np.array([[[sorted(priceAdjustmentsBeforeHorizon[p,w,simulationNumber])+[timeHorizon] for simulationNumber in range(numberSimulations)]for w in range(numberConsideredMarketSituations)]for p in range(len(prices))])\n",
    "\n",
    "numberPriceAdjustmentsBeforeHorizon = np.array([[[len(priceAdjustmentsBeforeHorizon[p,w,simulationNumber]) for simulationNumber in range(numberSimulations)]for w in range(numberConsideredMarketSituations)]for p in range(len(prices))])\n",
    "\n",
    "timeMarketEvents = np.array([[[[0 if i==0 else priceAdjustmentsBeforeHorizon[p,w,simulationNumber][i-1] for i in range(numberPriceAdjustmentsBeforeHorizon[p,w,simulationNumber]+1)]for simulationNumber in range(numberSimulations)]for w in range(numberConsideredMarketSituations)]for p in range(len(prices))])\n",
    "\n",
    "adjustingFirm = np.array([[[[min(np.where(timeOfAdjustmentsCompany[p,w,simulationNumber]==priceAdjustmentsBeforeHorizon[p,w,simulationNumber][i] )[0]) if priceAdjustmentsBeforeHorizon[p,w,simulationNumber][i]!= timeHorizon and i!=0 else -1 for i in range(numberPriceAdjustmentsBeforeHorizon[p,w,simulationNumber])] for simulationNumber in range(numberSimulations)]for w in range(numberConsideredMarketSituations)]for p in range(len(prices))])\n",
    "timeBetweenCustomerEvents = np.array([[[[meanTimeBetweenCustomerArrival*np.random.exponential() for _ in range(numberCustomerEvents)]for simulationNumber in range(numberSimulations)]for w in range(numberConsideredMarketSituations)]for p in range(len(prices))])\n",
    "timeCustomerEvents = np.array([[[[calculateTimeOfCustomerArrival(customer, timeBetweenCustomerEvents[p,w,simulationNumber]) for customer in range(numberCustomerEvents)] for simulationNumber in range(numberSimulations)]for w in range(numberConsideredMarketSituations)]for p in range(len(prices))])\n",
    "\n",
    "randomCustomerScoringQuality = np.array([[[[random.uniform(0,1) for _ in range(numberCustomerEvents)] for simulationNumber in range(numberSimulations)]for w in range(numberConsideredMarketSituations)]for p in range(len(prices))])\n",
    "randomCustomerScoringRating = np.array([[[[random.uniform(0,0.5) for _ in range(numberCustomerEvents)] for simulationNumber in range(numberSimulations)]for w in range(numberConsideredMarketSituations)]for p in range(len(prices))])\n",
    "                         \n",
    "customerScoringQualityRating = np.array([[[[[(randomCustomerScoringQuality[p,w,s][c]*qualityCompaniesPred[k,w] +\n",
    "    randomCustomerScoringRating[p,w,s][c]*(100-ratingCompaniesPred[k,w]))for k in range(numberPlayers)] for c in range(numberCustomerEvents)] for s in range(numberSimulations)]for w in range(numberConsideredMarketSituations)]for p in range(len(prices))])\n",
    "pricesCompanies = np.array([[[pricesCompaniesPred[k,w] if k!=watchedCompany else prices[a] for w in range(numberConsideredMarketSituations)] for a in range(len(prices))]  for k in range(numberPlayers)])\n",
    "pricesCompaniesAdjustments = np.array([[[[[pricesCompanies[k,a,w]  for k in range(numberPlayers)]for _ in range(numberPriceAdjustmentsBeforeHorizon[a,w,s])] for s in range(numberSimulations)] for w in range(numberConsideredMarketSituations)] for a in range(len(prices))])\n",
    "pricesCompaniesAdjustments = np.array([[[[np.array(calculatePrices(pricesCompaniesAdjustments[a,w,s], adjustingFirm[a,w,s], globals()[\"s{}\".format(strat+1)])) for s in range(numberSimulations)] for w in range(numberConsideredMarketSituations)] for a in range(len(prices))]for strat in range(len(strategies))])\n",
    "\n",
    "gen = np.array([[[[[x for x in range(numberCustomerEvents) if timeMarketEvents[a,w,s][i]< timeCustomerEvents[a,w,s][x]< timeMarketEvents[a,w,s][i+1]] for i in range(numberPriceAdjustmentsBeforeHorizon[a,w,s])] for s in range(numberSimulations)] for w in range(numberConsideredMarketSituations)] for a in range(len(prices))])\n",
    "\n",
    "randomCustomerScoring = np.array([[[[[[[(pricesCompaniesAdjustments[strat,a,w,s][i,k] + customerScoringQualityRating[a,w,s,c,k]) for k in range(numberPlayers)]for c in gen[a,w,s][i]]for i in range(numberPriceAdjustmentsBeforeHorizon[a,w,s])] for s in range(numberSimulations)] for w in range(numberConsideredMarketSituations)] for a in range(len(prices))]for strat in range(len(strategies))])\n",
    "randomCustomerDecision = np.array([[[[[[np.argmin(randomCustomerScoring[strat,a,w,s][i][c]) if min(randomCustomerScoring[strat,a,w,s][i][c])< random.uniform(5,15) else -1 for c in range(len(gen[a,w,s][i]))]for i in range(numberPriceAdjustmentsBeforeHorizon[a,w,s])] for s in range(numberSimulations)] for w in range(numberConsideredMarketSituations)] for a in range(len(prices))]for strat in range(len(strategies))])\n",
    "As = np.array([[[[[np.count_nonzero(np.hstack(randomCustomerDecision[strat,a,w,s])== k) for k in range(numberPlayers)]for s in range(numberSimulations)] for w in range(numberConsideredMarketSituations)] for a in range(len(prices))]for strat in range(len(strategies))])\n",
    "\n",
    "A = np.array([[[[[1/numberSimulations*np.count_nonzero(As[strat,a,w,:,k]==x) for k in range(numberPlayers)]for x in range(6)]for w in range(numberConsideredMarketSituations)] for a in range(len(prices))]for strat in range(len(strategies))])\n",
    "P_ori = [[[1- A[strat,a,w,0,watchedCompany]for w in range(numberConsideredMarketSituations)] for a in range(len(prices))]for strat in range(len(strategies))]\n",
    "P_ori2 = [[[sum([A[strat,a,w,x,watchedCompany]for x in range(2,6)])for w in range(numberConsideredMarketSituations)] for a in range(len(prices))]for strat in range(len(strategies))]\n",
    "\n",
    "EW_ori = [[[prices[a]*P_ori[strat][a][w] for w in range(numberConsideredMarketSituations)]for a in range(len(prices))]for strat in range(len(strategies))]\n",
    "\n",
    "for strat in range(len(strategies)):\n",
    "    with open('PEW_comparison_{}.csv'.format(strategies[strat]), 'w') as file:\n",
    "        writer = csv.writer(file, delimiter='\\t')\n",
    "        for w in range(numberConsideredMarketSituations):\n",
    "            for a in range(len(prices)):\n",
    "                line = [w+1,prices[a],P_ori[strat][a][w], P_ori2[strat][a][w], EW_ori[strat][a][w]]\n",
    "                writer.writerow(line)\n"
   ]
  }
 ],
 "metadata": {
  "kernelspec": {
   "display_name": "Python 3",
   "language": "python",
   "name": "python3"
  },
  "language_info": {
   "codemirror_mode": {
    "name": "ipython",
    "version": 3
   },
   "file_extension": ".py",
   "mimetype": "text/x-python",
   "name": "python",
   "nbconvert_exporter": "python",
   "pygments_lexer": "ipython3",
   "version": "3.6.3"
  }
 },
 "nbformat": 4,
 "nbformat_minor": 2
}
