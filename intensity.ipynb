{
 "cells": [
  {
   "cell_type": "markdown",
   "metadata": {},
   "source": [
    "This notebooks works like the monte_carlo notebook, except with only one price and one market situation.\n",
    "The time between adjustmensts of prices gets split into B parts and for each purchase the time slot o fit is tracked. At the end, it creates a graph. The time horizon is 1."
   ]
  },
  {
   "cell_type": "code",
   "execution_count": 1,
   "metadata": {
    "collapsed": true
   },
   "outputs": [],
   "source": [
    "import numpy as np\n",
    "import random\n",
    "import csv\n",
    "import matplotlib.pyplot as plt\n",
    "import pandas as pd"
   ]
  },
  {
   "cell_type": "code",
   "execution_count": 2,
   "metadata": {
    "collapsed": true
   },
   "outputs": [],
   "source": [
    "num_firm = 5\n",
    "time_horizon = 1\n",
    "num_market_events = round(1.1*time_horizon)\n",
    "mean_betw_customer_arrival = 2\n",
    "num_customer_events = round(1.1*time_horizon/mean_betw_customer_arrival) \n",
    "watched_firm = 0\n",
    "num_sims = 10000  \n",
    "reaction_time_firm = time_horizon\n",
    "intensity_price = 7\n",
    "bb = 20\n",
    "strategies = [\"S1\",\"S2\",\"S3\"]\n",
    "random.seed(12479498)\n",
    "#betw = between"
   ]
  },
  {
   "cell_type": "code",
   "execution_count": 3,
   "metadata": {
    "collapsed": true
   },
   "outputs": [],
   "source": [
    "prices_firm = np.array([\n",
    "    round(random.uniform(6,16),2) \n",
    "    for _ in range(num_firm)])"
   ]
  },
  {
   "cell_type": "code",
   "execution_count": 4,
   "metadata": {
    "collapsed": true
   },
   "outputs": [],
   "source": [
    "def price_if_smaller_else(price, price_threshold, min_price, prices_firm, c):\n",
    "    return(\n",
    "        price \n",
    "        if min([prices_firm[c] for firm in range(num_firm) if firm!=c]) < price_threshold \n",
    "        else round(\n",
    "            min([\n",
    "                    max(min_price, prices_firm[firm] - 0.5) for firm in range(num_firm) if firm != c])\n",
    "            ,2))\n",
    "\n",
    "s1 = {\n",
    "        '0' : lambda prices_firm, c: round(random.uniform(0,15),2),\n",
    "        '1' : lambda prices_firm, c: round(random.uniform(5,15),2),\n",
    "        '2' : lambda prices_firm, c: round(random.uniform(5,15),2),\n",
    "        '3' : lambda prices_firm, c: round(random.uniform(5,15),2),\n",
    "        '4' : lambda prices_firm, c: round(random.uniform(5,15),2)\n",
    "    }\n",
    "\n",
    "s2 = {\n",
    "        '0' : lambda prices_firm, c: price_if_smaller_else(10,5,4.9,prices_firm,c),\n",
    "        '1' : lambda prices_firm, c: price_if_smaller_else(10,5,4.9,prices_firm,c),\n",
    "        '2' : lambda prices_firm, c: price_if_smaller_else(10,5,4.9,prices_firm,c),\n",
    "        '3' : lambda prices_firm, c: price_if_smaller_else(10,5,4.9,prices_firm,c),\n",
    "        '4' : lambda prices_firm, c: price_if_smaller_else(10,5,4.9,prices_firm,c)\n",
    "    }\n",
    "\n",
    "s3 = {\n",
<<<<<<< HEAD
    "        '0' : lambda prices_firm, c: price_if_smaller_else(10,5,4.9,prices_firm,c),\n",
    "        '1' : lambda prices_firm, c: price_if_smaller_else(9,4,3.9,prices_firm,c),\n",
    "        '2' : lambda prices_firm, c: price_if_smaller_else(12,6,5.9,prices_firm,c),\n",
    "        '3' : lambda prices_firm, c: 11,\n",
    "        '4' : lambda prices_firm, c: 13\n",
=======
    "        '0' : lambda pricesCompanies, c: price_if_smaller_else(10,5,4.9,pricesCompanies,c),\n",
    "        '1' : lambda pricesCompanies, c: price_if_smaller_else(9,4,3.9,pricesCompanies,c),\n",
    "        '2' : lambda pricesCompanies, c: price_if_smaller_else(12,6,5.9,pricesCompanies,c),\n",
    "        '3' : lambda pricesCompanies, c: 11,\n",
    "        '4' : lambda pricesCompanies, c: 13\n",
>>>>>>> ceffc514b8901331575462dcb9474eb14790c97b
    "    }"
   ]
  },
  {
   "cell_type": "code",
   "execution_count": 5,
   "metadata": {
    "collapsed": true
   },
   "outputs": [],
   "source": [
<<<<<<< HEAD
    "def calc_prices(prices_firm_adjust, adjusting_firm, strategy):\n",
    "    prices_firm_adjust = np.array(prices_firm_adjust)\n",
    "    for i in range(1,len(prices_firm_adjust)-1):        \n",
    "        prices_firm_adjust[i:,adjusting_firm[i]] = strategy[str(adjusting_firm[i])](prices_firm_adjust[i-1],adjusting_firm[i])\n",
    "    prices_firm_adjust[len(prices_firm_adjust)-1] = prices_firm_adjust[len(prices_firm_adjust)-2]\n",
    "    return prices_firm_adjust"
=======
    "def calculateTimeOfAdjustmentsCompany(company, i, timeBetweenMarketEventsCompany, first_reaction):\n",
    "    if i==0:\n",
    "        if company != watchedCompany:\n",
    "            return first_reaction[company][i]\n",
    "        else:\n",
    "            return(reactionTimeCompany)\n",
    "    else:\n",
    "        return(calculateTimeOfAdjustmentsCompany(company, i-1, timeBetweenMarketEventsCompany, first_reaction)+ timeBetweenMarketEventsCompany[company][i-1])\n",
    "    \n",
    "def calculateTimeOfCustomerArrival(customer, timeBetweenMarketEventsCustomer):\n",
    "    if customer==0:\n",
    "        return timeBetweenMarketEventsCustomer[customer]\n",
    "    else:\n",
    "        return(calculateTimeOfCustomerArrival(customer-1, timeBetweenMarketEventsCustomer) + timeBetweenMarketEventsCustomer[customer])\n",
    "\n",
    "def calculatePrices(pricesCompaniesAdjustments, adjustingFirm, strategy):\n",
    "    pricesCompaniesAdjustments = np.array(pricesCompaniesAdjustments)\n",
    "    for i in range(1,len(pricesCompaniesAdjustments)-1):        \n",
    "        pricesCompaniesAdjustments[i:,adjustingFirm[i]] = strategy[str(adjustingFirm[i])](pricesCompaniesAdjustments[i-1],adjustingFirm[i])\n",
    "    pricesCompaniesAdjustments[len(pricesCompaniesAdjustments)-1] = pricesCompaniesAdjustments[len(pricesCompaniesAdjustments)-2]\n",
    "    return pricesCompaniesAdjustments"
>>>>>>> ceffc514b8901331575462dcb9474eb14790c97b
   ]
  },
  {
   "cell_type": "code",
   "execution_count": null,
   "metadata": {
    "collapsed": true
   },
   "outputs": [],
   "source": [
<<<<<<< HEAD
    "num_market_events = 2\n",
    "num_customer_events = 4\n",
    "\n",
    "time_betw_market_events_firm = np.random.uniform(0.8,1.2, (num_sims, num_firm, num_market_events))\n",
    "\n",
    "time_adjusts_firm = time_betw_market_events_firm\n",
    "time_adjusts_firm[:,:,0] = np.random.uniform(0, 1, (num_sims, num_firm))\n",
    "for sim_num in range(num_sims):\n",
    "    for firm in range(num_firm):\n",
    "        for i in range(1, num_market_events):\n",
    "            time_adjusts_firm[sim_num, firm, i] = (time_adjusts_firm[sim_num, firm, i-1] + \n",
    "                                                   time_betw_market_events_firm[sim_num, firm, i])\n",
    "for sim_num in range(num_sims):\n",
    "    time_adjusts_firm[sim_num, watched_firm] = time_horizon\n",
    "    \n",
    "price_adjusts_before_horizon = np.array(\n",
    "    [\n",
    "        set([\n",
    "            time_adjusts_firm[sim_num].flatten()[i] \n",
    "            for i in range(len(time_adjusts_firm[sim_num].flatten())) \n",
    "            if time_adjusts_firm[sim_num].flatten()[i] < time_horizon]) \n",
    "        for sim_num in range(num_sims)])\n",
    "\n",
    "price_adjusts_before_horizon = np.array(\n",
    "    [\n",
    "        sorted(price_adjusts_before_horizon[sim_num])+[time_horizon] \n",
    "        for sim_num in range(num_sims)])\n",
    "\n",
    "num_price_adjusts_before_horizon = np.array(\n",
    "    [\n",
    "        len(price_adjusts_before_horizon[sim_num]) \n",
    "        for sim_num in range(num_sims)])\n",
    "\n",
    "time_market_events = np.array(\n",
    "    [[\n",
    "            0 \n",
    "            for i in range(num_price_adjusts_before_horizon[sim_num]+1)]\n",
    "        for sim_num in range(num_sims)])\n",
    "\n",
    "for sim_num in range(num_sims):\n",
    "    for i in range(num_price_adjusts_before_horizon[sim_num]):\n",
    "        time_market_events[sim_num][i+1] = price_adjusts_before_horizon[sim_num][i] \n",
=======
    "timeBetweenMarketEventsCompany = np.array([[[random.uniform(0.8,1.2) for i in range(m)] for company in range(numberPlayers)] for _ in range(numberSimulations)])\n",
    "first_reaction = np.array([[[random.uniform(0,1) for i in range(m)] for company in range(numberPlayers)] for _ in range(numberSimulations)])\n",
    "timeOfAdjustmentsCompany = np.array([[[calculateTimeOfAdjustmentsCompany(company ,i, timeBetweenMarketEventsCompany[simulationNumber], first_reaction[simulationNumber]) for i in range(m)] for company in range(numberPlayers)] for simulationNumber in range(numberSimulations)])\n",
    "priceAdjustmentsBeforeHorizon = np.array([set([timeOfAdjustmentsCompany[simulationNumber].flatten()[i] for i in range(len(timeOfAdjustmentsCompany[simulationNumber].flatten())) if timeOfAdjustmentsCompany[simulationNumber].flatten()[i] < timeHorizon]) for simulationNumber in range(numberSimulations)])\n",
>>>>>>> ceffc514b8901331575462dcb9474eb14790c97b
    "\n",
    "adjusting_firm = np.array(\n",
    "    [[\n",
    "            min(np.where(time_adjusts_firm[sim_num]==price_adjusts_before_horizon[sim_num][i] )[0]) \n",
    "            if price_adjusts_before_horizon[sim_num][i]!= time_horizon and i!=0 \n",
    "            else -1 \n",
    "            for i in range(num_price_adjusts_before_horizon[sim_num])] \n",
    "        for sim_num in range(num_sims)])\n",
    "\n",
    "time_betw_customer_events = mean_betw_customer_arrival* np.random.exponential(size=(num_sims, num_customer_events)) \n",
    "time_customer_events = np.array(\n",
    "    [[\n",
    "            time_betw_customer_events[sim_num, customer] \n",
    "            for customer in range(num_customer_events)] \n",
    "        for sim_num in range(num_sims)])\n",
    "for sim_num in range(num_sims):\n",
    "    for customer in range(1, num_customer_events):\n",
    "        time_customer_events[sim_num, customer] = (time_customer_events[sim_num, customer-1] + \n",
    "                                                   time_betw_customer_events[sim_num, customer])\n",
    "\n",
    "rand_customer_score_qual = np.random.uniform(0,1, (num_sims, num_customer_events))\n",
    "\n",
    "rand_customer_score_rating = rand_customer_score_qual = np.random.uniform(0,0.5, (num_sims, num_customer_events))\n",
    "\n",
    "customer_score_qual_rating = np.zeros(shape=(num_sims, num_customer_events, num_firm))\n",
    "\n",
    "for sim_num in range(num_sims):\n",
    "    for customer in range(num_customer_events):\n",
    "        customer_score_qual_rating[sim_num, customer, :] = (rand_customer_score_qual[sim_num, customer]*2 + \n",
    "                                                            rand_customer_score_rating[sim_num, customer]*(100-98))\n",
    "\n",
    "prices_firm = np.array(\n",
    "    [\n",
    "        intensity_price+20.5+2*(k-2) \n",
    "        if k!=watched_firm \n",
    "        else intensity_price  \n",
    "        for k in range(num_firm)])\n",
    "prices_firm_adjust = np.array(\n",
    "    [[[\n",
    "                prices_firm[k]  \n",
    "                for k in range(num_firm)]\n",
    "            for _ in range(num_price_adjusts_before_horizon[s])] \n",
    "        for s in range(num_sims)])\n",
    "prices_firm_adjust = np.array(\n",
    "    [[\n",
    "            np.array(calc_prices(prices_firm_adjust[s], adjusting_firm[s], globals()[\"s{}\".format(strat+1)])) \n",
    "            for s in range(num_sims)]\n",
    "        for strat in range(len(strategies))])\n",
    "\n",
    "gen = np.array(\n",
    "    [[\n",
    "            list([\n",
    "                x \n",
    "                for x in range(num_customer_events) \n",
    "                if time_market_events[s][i]< time_customer_events[s][x]< time_market_events[s][i+1]]) \n",
    "            for i in range(num_price_adjusts_before_horizon[s])] \n",
    "        for s in range(num_sims)] )\n",
    "\n",
    "rand_customer_score = np.array(\n",
    "    [[[[[\n",
    "                        (prices_firm_adjust[strat,s][i,k] + customer_score_qual_rating[s,c,k]) \n",
    "                        for k in range(num_firm)]\n",
    "                    for c in gen[s][i]]\n",
    "                for i in range(num_price_adjusts_before_horizon[s])] \n",
    "            for s in range(num_sims)]\n",
    "        for strat in range(len(strategies))])\n",
    "rand_customer_decision = np.array(\n",
    "    [[[[\n",
    "                    np.argmin(rand_customer_score[strat,s][i][c]) \n",
    "                    if min(rand_customer_score[strat,s][i][c])< random.uniform(5,15) \n",
    "                    else -1 \n",
    "                    for c in range(len(gen[s][i]))]\n",
    "                for i in range(num_price_adjusts_before_horizon[s])] \n",
    "            for s in range(num_sims)]\n",
    "        for strat in range(len(strategies))])\n",
    "\n",
    "b = np.array(\n",
    "    [[[\n",
    "                int(round((time_customer_events[s][c]+1/bb/2)*bb))\n",
    "                for c in range(len(gen[s][i]))]\n",
    "            for i in range(num_price_adjusts_before_horizon[s])] \n",
    "        for s in range(num_sims)])\n",
    "\n",
    "At = np.array(\n",
    "    [[[\n",
    "                sum([\n",
    "                     sum([\n",
    "                          sum([\n",
    "                               1 \n",
    "                               if b[s][i][c]==t and rand_customer_decision[strat,s][i][c]==k  \n",
    "                               else 0 \n",
    "                               for c in range(len(gen[s][i]))])\n",
    "                          for i in range(num_price_adjusts_before_horizon[s])])\n",
    "                     for s in range(num_sims)])\n",
    "                for k in range(num_firm)]\n",
    "            for t in range(reaction_time_firm*bb+1)]\n",
    "        for strat in range(len(strategies))])\n",
    "                        \n",
    "x = [\n",
    "        t/bb \n",
    "        for t in range(1,reaction_time_firm*bb+1)]\n",
    "\n",
<<<<<<< HEAD
    "plt.plot(x, [At[0,t][watched_firm]/num_sims*bb for t in range(1,len(x)+1)], 'b-', label='S1')\n",
    "plt.plot(x, [At[1,t][watched_firm]/num_sims*bb for t in range(1,len(x)+1)], 'r-', label='S2')\n",
    "plt.plot(x, [At[2,t][watched_firm]/num_sims*bb for t in range(1,len(x)+1)], 'g-', label='S3')\n",
=======
    "plt.plot(x, [At[0,t][watchedCompany]/numberSimulations*bb for t in range(1,len(x)+1)], 'b-', label='Setup 1')\n",
    "plt.plot(x, [At[1,t][watchedCompany]/numberSimulations*bb for t in range(1,len(x)+1)], 'r-', label='Setup 2')\n",
    "plt.plot(x, [At[2,t][watchedCompany]/numberSimulations*bb for t in range(1,len(x)+1)], 'g-', label='Setup 3')\n",
>>>>>>> ceffc514b8901331575462dcb9474eb14790c97b
    "plt.legend(loc='best')\n",
    "plt.xlabel('t')\n",
    "plt.ylabel('E(λ$_t$)')"
   ]
  },
  {
   "cell_type": "markdown",
   "metadata": {},
   "source": [
    "Simulated expected sales intensities of firm 1 over one period of time time for different firmetitive setups (i)-(iii), starting in market situation s0 , cf."
   ]
  },
  {
   "cell_type": "code",
   "execution_count": 7,
   "metadata": {},
   "outputs": [
    {
     "data": {
<<<<<<< HEAD
      "image/png": "iVBORw0KGgoAAAANSUhEUgAAAYkAAAEKCAYAAADn+anLAAAABHNCSVQICAgIfAhkiAAAAAlwSFlz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\npElCKaWUS5oklFJKufT/OlWPdC7pUAEAAAAASUVORK5CYII=\n",
      "text/plain": [
       "<matplotlib.figure.Figure at 0x112e65438>"
=======
      "image/png": "iVBORw0KGgoAAAANSUhEUgAAAY8AAAEKCAYAAADq59mMAAAABHNCSVQICAgIfAhkiAAAAAlwSFlz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\n",
      "text/plain": [
       "<matplotlib.figure.Figure at 0x107e20518>"
>>>>>>> ceffc514b8901331575462dcb9474eb14790c97b
      ]
     },
     "metadata": {},
     "output_type": "display_data"
    }
   ],
   "source": [
    "plt.show()"
   ]
  },
  {
   "cell_type": "code",
   "execution_count": null,
   "metadata": {
    "collapsed": true
   },
   "outputs": [],
   "source": []
  }
 ],
 "metadata": {
  "kernelspec": {
   "display_name": "Python 3",
   "language": "python",
   "name": "python3"
  },
  "language_info": {
   "codemirror_mode": {
    "name": "ipython",
    "version": 3
   },
   "file_extension": ".py",
   "mimetype": "text/x-python",
   "name": "python",
   "nbconvert_exporter": "python",
   "pygments_lexer": "ipython3",
   "version": "3.6.3"
  }
 },
 "nbformat": 4,
 "nbformat_minor": 2
}
