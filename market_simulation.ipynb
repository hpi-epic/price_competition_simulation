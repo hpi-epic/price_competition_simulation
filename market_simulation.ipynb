{
 "cells": [
  {
   "cell_type": "markdown",
   "metadata": {},
   "source": [
    "# Market Simulation\n",
    "\n",
    "This notebook creates one file.\n",
    "For a given number of market situations, each market situation is simulated with the same starting condition multiple times for a specified time horizon.\n",
    "In the `demand_learning_data` file we save explanatory variables for market situations and whether there was a purchase in the current situation. We also create three graphs displaying a selected time period from our simulation."
   ]
  },
  {
   "cell_type": "markdown",
   "metadata": {},
   "source": [
    "** We create the output files for three different pricing setups:**\n",
    "* _Setup 1 (S1):_  For the watched company we chose a random price between 0 and 15. For all the other companies, we chose a price between 5 and 15.\n",
    "* _Setup 2 (S2):_ For each company we use the same pricing strategy:  \n",
    "```min_competitor_price = min(prices_companies)\n",
    "if min_competitor_price < 5:\n",
    "    10\n",
    "else:\n",
    "    max(4.9, (min_competitor_price - 0.5))\n",
    "```\n",
    "* _Setup 3 (S3):_ For the first three companies we use the approach from Setup 2, except with different thresholds. The last two companies have a fixed price of either 11 or 13."
   ]
  },
  {
   "cell_type": "code",
   "execution_count": 1,
   "metadata": {
    "collapsed": true
   },
   "outputs": [],
   "source": [
    "import random\n",
    "import numpy as np\n",
    "import csv\n",
    "import matplotlib.pyplot as plt\n",
    "import pandas as pd"
   ]
  },
  {
   "cell_type": "markdown",
   "metadata": {},
   "source": [
    "Set start values."
   ]
  },
  {
   "cell_type": "code",
   "execution_count": 2,
   "metadata": {
    "collapsed": true
   },
   "outputs": [],
   "source": [
    "num_firm = 5                                                                # the number of firms which we simulate\n",
    "time_horizon = 100                                                          \n",
    "num_market_events = time_horizon + 100                                      # the maximum number of market events\n",
    "mean_betw_customer_arrival = 1\n",
    "num_customer_events = int(time_horizon / mean_betw_customer_arrival + 100)  # the maximum number of customer events\n",
    "iter_diff_start = 100                                                       # how often to simulate with same start\n",
    "iter_same_start = 1                                                         # how often to simulate with \n",
    "                                                                            # different start\n",
    "watched_firm = 0\n",
    "current_line = 0\n",
    "setups = [\"S1\",\"S2\",\"S3\"]                                                   # set the names of different setups\n",
    "random.seed(3819469)                                                        # set a random seed to \n",
    "                                                                            # always get comparable results"
   ]
  },
  {
   "cell_type": "markdown",
   "metadata": {},
   "source": [
    "Set market start situation."
   ]
  },
  {
   "cell_type": "code",
   "execution_count": 3,
   "metadata": {
    "collapsed": true,
    "scrolled": true
   },
   "outputs": [],
   "source": [
    "prices_firm = np.round(np.random.uniform(6,16, size = (iter_diff_start, num_firm)), decimals = 2)\n",
    "qual_firm = np.round(np.random.uniform(0.5,5.5, size = (iter_diff_start, num_firm)))\n",
    "rating_firm = np.round(np.random.uniform(90, 100, size = (iter_diff_start, num_firm)), decimals = 1)"
   ]
  },
  {
   "cell_type": "markdown",
   "metadata": {},
   "source": [
    "Calculate all the necessary information for when firms adjusts their prices and how often they adjust their prices.  "
   ]
  },
  {
   "cell_type": "code",
   "execution_count": 4,
   "metadata": {
    "collapsed": true
   },
   "outputs": [],
   "source": [
    "time_betw_market_events_firm = np.random.uniform(0.8, 1.2, size = (iter_diff_start, iter_same_start, num_firm, num_market_events))\n",
    "\n",
    "time_adjusts_firm = time_betw_market_events_firm\n",
    "\n",
    "time_adjusts_firm[:,:,:,0] = np.random.uniform(0, 1, size = (iter_diff_start, iter_same_start, num_firm))\n",
    "\n",
    "for d in range(iter_diff_start):\n",
    "    for s in range(iter_same_start):\n",
    "        for c in range(num_firm):\n",
    "            for i in range(1, num_market_events):\n",
    "                time_adjusts_firm[d,s,c,i] = time_adjusts_firm[d,s,c,i-1] + time_betw_market_events_firm[d,s,c,i]\n",
    "                \n",
    "price_adjusts_before_horizon = np.array(\n",
    "    [[\n",
    "            set([\n",
    "                time_adjusts_firm[d,s].flatten()[i] \n",
    "                for i in range(len(time_adjusts_firm[d,s].flatten())) \n",
    "                if time_adjusts_firm[d,s].flatten()[i] < time_horizon])\n",
    "            for s in range(iter_same_start)]\n",
    "        for d in range(iter_diff_start)])\n",
    "        \n",
    "price_adjusts_before_horizon = np.array(\n",
    "    [[\n",
    "            [0] + sorted(price_adjusts_before_horizon[d,s]) + [time_horizon]\n",
    "            for s in range(iter_same_start)]\n",
    "        for d in range(iter_diff_start)])\n",
    "\n",
    "num_price_adjusts_before_horizon = np.array(\n",
    "    [[\n",
    "            len(price_adjusts_before_horizon[d,s])\n",
    "            for s in range(iter_same_start)]\n",
    "        for d in range(iter_diff_start)])\n",
    "\n",
    "firm_adjusting_at_time = np.array(\n",
    "    [[[\n",
    "                min(np.where(time_adjusts_firm[d,s]==price_adjusts_before_horizon[d,s][i])[0])\n",
    "                if price_adjusts_before_horizon[d,s][i]!=time_horizon and i!=0 \n",
    "                else -1  \n",
    "                for i in range(num_price_adjusts_before_horizon[d,s])]\n",
    "            for s in range(iter_same_start)]\n",
    "        for d in range(iter_diff_start)])    "
   ]
  },
  {
   "cell_type": "markdown",
   "metadata": {},
   "source": [
    "Calculate when customers will arrive and how they will score the quality and rating of all firms."
   ]
  },
  {
   "cell_type": "code",
   "execution_count": 5,
   "metadata": {
    "collapsed": true
   },
   "outputs": [],
   "source": [
    "time_betw_customer_events = (mean_betw_customer_arrival * \n",
    "                             np.random.exponential(size = (iter_diff_start, iter_same_start, num_customer_events)))\n",
    "\n",
    "time_customer_events = time_betw_customer_events\n",
    "\n",
    "for d in range(iter_diff_start):\n",
    "    for s in range(iter_same_start):\n",
    "        for k in range(1, num_customer_events):\n",
    "            time_customer_events[d,s,k] = time_customer_events[d,s,k-1] + time_betw_customer_events[d,s,k]\n",
    "            \n",
    "rand_customer_score_qual = np.random.uniform(0, 1, size = (iter_diff_start, iter_same_start, num_customer_events))\n",
    "\n",
    "rand_customer_score_rating = np.random.uniform(0, 0.5, size = (iter_diff_start, iter_same_start, num_customer_events))\n",
    "\n",
    "customer_score_qual_rating = np.array(\n",
    "    [[[[\n",
    "                    (rand_customer_score_qual[d,s,c]*qual_firm[d,k] +\n",
    "                     rand_customer_score_rating[d,s,c]*(100-rating_firm[d,k]))\n",
    "                    for k in range(num_firm)] \n",
    "                for c in range(num_customer_events)]\n",
    "            for s in range(iter_same_start)]\n",
    "        for d in range(iter_diff_start)])"
   ]
  },
  {
   "cell_type": "markdown",
   "metadata": {},
   "source": [
    "Create variables for watched firm."
   ]
  },
  {
   "cell_type": "code",
   "execution_count": 6,
   "metadata": {},
   "outputs": [],
   "source": [
    "count_adjusts_watched_firm = np.array(\n",
    "    [[\n",
    "            sum([\n",
    "                1 \n",
    "                for i in range(num_price_adjusts_before_horizon[d,s])\n",
    "                if firm_adjusting_at_time[d,s][i] == watched_firm]) + 1 \n",
    "            for s in range(iter_same_start)]\n",
    "        for d in range(iter_diff_start)])\n",
    "\n",
    "time_adjusts_watched_firm = np.array(\n",
    "    [[[\n",
    "                price_adjusts_before_horizon[d,s][i] \n",
    "                for i in range(num_price_adjusts_before_horizon[d,s]) \n",
    "                if firm_adjusting_at_time[d,s][i] == watched_firm]\n",
    "            for s in range(iter_same_start)] \n",
    "        for d in range(iter_diff_start)])\n",
    "\n",
    "for d in range(iter_diff_start):\n",
    "    for s in range(iter_same_start):\n",
    "        time_adjusts_watched_firm[d,s].insert(0,0)\n",
    "        time_adjusts_watched_firm[d,s].extend([time_horizon])"
   ]
  },
  {
   "cell_type": "code",
   "execution_count": 7,
   "metadata": {
    "collapsed": true
   },
   "outputs": [],
   "source": [
    "def price_if_smaller_else(price, price_threshold, min_price, prices_firm, c):\n",
    "    return(\n",
    "        price \n",
    "        if min([prices_firm[c] for firm in range(num_firm) if firm!=c]) < price_threshold \n",
    "        else round(\n",
    "            min([\n",
    "                    max(min_price, prices_firm[firm] - 0.5) for firm in range(num_firm) if firm != c])\n",
    "            ,2))\n",
    "s1 = {\n",
    "        '0' : lambda prices_firm, c: round(random.uniform(0,15),2),\n",
    "        '1' : lambda prices_firm, c: round(random.uniform(5,15),2),\n",
    "        '2' : lambda prices_firm, c: round(random.uniform(5,15),2),\n",
    "        '3' : lambda prices_firm, c: round(random.uniform(5,15),2),\n",
    "        '4' : lambda prices_firm, c: round(random.uniform(5,15),2)\n",
    "    }\n",
    "\n",
    "s2 = {\n",
    "        '0' : lambda prices_firm, c: price_if_smaller_else(10,5,4.9,prices_firm,c),\n",
    "        '1' : lambda prices_firm, c: price_if_smaller_else(10,5,4.9,prices_firm,c),\n",
    "        '2' : lambda prices_firm, c: price_if_smaller_else(10,5,4.9,prices_firm,c),\n",
    "        '3' : lambda prices_firm, c: price_if_smaller_else(10,5,4.9,prices_firm,c),\n",
    "        '4' : lambda prices_firm, c: price_if_smaller_else(10,5,4.9,prices_firm,c)\n",
    "    }\n",
    "\n",
    "s3 = {\n",
    "        '0' : lambda prices_firm, c: price_if_smaller_else(10,5,4.9,prices_firm,c),\n",
    "        '1' : lambda prices_firm, c: price_if_smaller_else(9,4,3.9,prices_firm,c),\n",
    "        '2' : lambda prices_firm, c: price_if_smaller_else(12,6,5.9,prices_firm,c),\n",
    "        '3' : lambda prices_firm, c: 11,\n",
    "        '4' : lambda prices_firm, c: 13\n",
    "    }"
   ]
  },
  {
   "cell_type": "code",
   "execution_count": 8,
   "metadata": {
    "collapsed": true
   },
   "outputs": [],
   "source": [
    "def explanatory_vars(d, s, explanatory_var, count_adjust, setup):\n",
    "    return {\n",
    "        '0' : 1,\n",
    "        '1' : price_ranks_firm[setup,d,s][count_adjust],\n",
    "        '2' : 1 if price_ranks_firm[setup,d,s][count_adjust]==1 else 0,\n",
    "        '3' : qual_rank_firm[d],\n",
    "        '4' : rating_ranks[d,watched_firm],\n",
    "        '5' : prices_tracked[setup,d,s][count_adjust][watched_firm],\n",
    "        '6' : prices_tracked[setup,d,s][count_adjust][watched_firm] - min([prices_tracked[setup,d,s][count_adjust][j] for j in range(num_firm) if j!=watched_firm]) if num_firm > 1 else 0,\n",
    "        '7' : qual_firm[d,watched_firm],\n",
    "        '8' : rating_firm[d,watched_firm],\n",
    "        '9' : 15 - (prices_tracked[setup,d,s][count_adjust][watched_firm] + \n",
    "                    0.5*qual_firm[d,watched_firm] + \n",
    "                    0.25*(100-rating_firm[d,watched_firm])) \n",
    "        if((prices_tracked[setup,d,s][count_adjust][watched_firm] +\n",
    "            0.5*qual_firm[d,watched_firm] +\n",
    "            0.25*(100-rating_firm[d,watched_firm])) \n",
    "           < min([\n",
    "               prices_tracked[setup,d,s][count_adjust][j] +\n",
    "                  0.5*qual_firm[d,j] +\n",
    "                  0.25*(100-rating_firm[d,j]) \n",
    "               for j in range(num_firm) \n",
    "               if j!= watched_firm]))\n",
    "        else 0,\n",
    "    }[str(explanatory_var)]\n",
    "\n",
    "def calc_prices(prices_firm_adjust, adjusting_firm, setup):\n",
    "    prices_firm_adjust = np.array(prices_firm_adjust)\n",
    "    for comp in range(num_firm):\n",
    "        prices_firm_adjust[0:, comp] = setup[str(comp)](prices_firm_adjust[0],comp)\n",
    "    #weird indexing because there are actually no price adjustments at time 0 nor on the price horizon\n",
    "    for i in range(1,len(prices_firm_adjust)-1):        \n",
    "        prices_firm_adjust[i:,adjusting_firm[i]] = setup[str(adjusting_firm[i])](prices_firm_adjust[i-1],adjusting_firm[i])\n",
    "    return prices_firm_adjust"
   ]
  },
  {
   "cell_type": "markdown",
   "metadata": {},
   "source": [
    "As we don't want to know what happens after or on the time horizon, we will always substract 1 when using the value num_price_adjusts_before_horizon in the following code."
   ]
  },
  {
   "cell_type": "code",
   "execution_count": 9,
   "metadata": {
    "collapsed": true
   },
   "outputs": [],
   "source": [
    "# get all the customers that appear between market events, so we don't always have to iterate through each customer\n",
    "gen = np.array(\n",
    "    [[[[\n",
    "                    x \n",
    "                    for x in range(num_customer_events) \n",
    "                    if price_adjusts_before_horizon[d,s][i]< time_customer_events[d,s][x]<= price_adjusts_before_horizon[d,s][i+1]] \n",
    "                for i in range(num_price_adjusts_before_horizon[d,s] - 1)] \n",
    "            for s in range(iter_same_start)] \n",
    "        for d in range(iter_diff_start)])"
   ]
  },
  {
   "cell_type": "markdown",
   "metadata": {},
   "source": [
    "Calculate the prices adjustments for each firm in the time horizon."
   ]
  },
  {
   "cell_type": "code",
   "execution_count": 10,
   "metadata": {
    "collapsed": true
   },
   "outputs": [],
   "source": [
    "prices_firm_adjust = np.array(\n",
    "    [[[[\n",
    "                    prices_firm[d,k]  \n",
    "                    for k in range(num_firm)]\n",
    "                for _ in range(num_price_adjusts_before_horizon[d,s] - 1)]\n",
    "            for s in range(iter_same_start)] \n",
    "        for d in range(iter_diff_start)])\n",
    "\n",
    "prices_firm_adjust = np.array(\n",
    "    [[[\n",
    "                np.array(calc_prices(prices_firm_adjust[d,s], firm_adjusting_at_time[d,s], globals()[\"s{}\".format(setup+1)])) \n",
    "                for s in range(iter_same_start)] \n",
    "            for d in range(iter_diff_start)]\n",
    "        for setup in range(len(setups))])"
   ]
  },
  {
   "cell_type": "markdown",
   "metadata": {},
   "source": [
    "Simulate the customer by completing the score using the current prices of each firm and then calculating a decision for each customer."
   ]
  },
  {
   "cell_type": "code",
   "execution_count": 11,
   "metadata": {
    "collapsed": true
   },
   "outputs": [],
   "source": [
    "customer_score = np.array(\n",
    "    [[[[[[\n",
    "                            customer_score_qual_rating[d,s,c,k]+prices_firm_adjust[setup,d,s][i,k] \n",
    "                            for k in range(num_firm)] \n",
    "                        for c in gen[d,s][i]]\n",
    "                    for i in range(num_price_adjusts_before_horizon[d,s] - 1)]\n",
    "                for s in range(iter_same_start)]\n",
    "            for d in range(iter_diff_start)]\n",
    "        for setup in range(len(setups))])\n",
    "\n",
    "customer_decision = np.array(\n",
    "    [[[[[\n",
    "                        np.argmin(customer_score[setup,d,s][i][c]) \n",
    "                        if min(customer_score[setup,d,s][i][c])< random.uniform(5,15) \n",
    "                        else -1 \n",
    "                        for c in range(len(gen[d,s][i]))] \n",
    "                    for i in range(num_price_adjusts_before_horizon[d,s] - 1)]\n",
    "                for s in range(iter_same_start)]\n",
    "            for d in range(iter_diff_start)]\n",
    "        for setup in range(len(setups))])"
   ]
  },
  {
   "cell_type": "markdown",
   "metadata": {},
   "source": [
    "Track data that is used to create further graphs and save them."
   ]
  },
  {
   "cell_type": "code",
   "execution_count": 12,
   "metadata": {
    "collapsed": true
   },
   "outputs": [],
   "source": [
    "accumulated_profit = np.array(\n",
    "    [[[[\n",
    "                    sum([\n",
    "                        sum([\n",
    "                            prices_firm_adjust[setup,d,s][i,k] \n",
    "                            if customer_decision[setup,d,s][i][c]==k \n",
    "                            else 0 \n",
    "                            for c in range(len(gen[d,s][i]))]) \n",
    "                        for i in range(num_price_adjusts_before_horizon[d,s] - 1)])\n",
    "                    for k in range(num_firm)]\n",
    "                for s in range(iter_same_start)]\n",
    "            for d in range(iter_diff_start)]\n",
    "        for setup in range(len(setups))])\n",
    "\n",
    "prices_tracked = np.array(\n",
    "    [[[[[\n",
    "                        prices_firm_adjust[setup,d,s][i,k] \n",
    "                        for k in range(num_firm) \n",
    "                        if firm_adjusting_at_time[d,s][i]==watched_firm or price_adjusts_before_horizon[d,s][i]==0] \n",
    "                    for i in range(num_price_adjusts_before_horizon[d,s] - 1)]\n",
    "                for s in range(iter_same_start)]\n",
    "            for d in range(iter_diff_start)]\n",
    "        for setup in range(len(setups))])\n",
    "\n",
    "prices_tracked = np.array(\n",
    "    [[[[\n",
    "                    x \n",
    "                    for x in prices_tracked[setup,d,s] \n",
    "                    if x != []] \n",
    "                for s in range(iter_same_start)]\n",
    "            for d in range(iter_diff_start)]\n",
    "        for setup in range(len(setups))])\n",
    "\n",
    "index_time_adjusts = np.array(\n",
    "    [[[[[\n",
    "                        x \n",
    "                        for x in range(num_price_adjusts_before_horizon[d,s]) \n",
    "                        if price_adjusts_before_horizon[d,s][x]==time_adjusts_watched_firm[d,s][i]] \n",
    "                    for i in range(count_adjusts_watched_firm[d,s] + 1)]\n",
    "                for s in range(iter_same_start)]\n",
    "            for d in range(iter_diff_start)]\n",
    "        for setup in range(len(setups))])\n",
    "\n",
    "sales_betw_adjusts = np.array(\n",
    "    [[[[\n",
    "                    sum([\n",
    "                        sum([\n",
    "                            1 \n",
    "                            for c in range(len(gen[d,s][j])) \n",
    "                            if customer_decision[setup,d,s][j][c]==watched_firm])\n",
    "                        for j in range(num_price_adjusts_before_horizon[d,s]) \n",
    "                        if j>=index_time_adjusts[setup,d,s][i][0] and j<index_time_adjusts[setup,d,s][i+1][0]]) \n",
    "                    for i in range(count_adjusts_watched_firm[d,s])]\n",
    "                for s in range(iter_same_start)]\n",
    "            for d in range(iter_diff_start)]\n",
    "        for setup in range(len(setups))])\n",
    "\n",
    "price_ranks_firm = np.array(\n",
    "    [[[[\n",
    "                  1 +  \n",
    "                  sum([\n",
    "                      1 \n",
    "                      for i in range(num_firm) \n",
    "                      if prices_tracked[setup,d,s][j][watched_firm]> prices_tracked[setup,d,s][j][i] and i!=watched_firm]) \n",
    "                  +\n",
    "                  sum([\n",
    "                      1 \n",
    "                      for i in range(num_firm) \n",
    "                      if prices_tracked[setup,d,s][j][watched_firm]== prices_tracked[setup,d,s][j][i] and i!=watched_firm])/2\n",
    "                  for j in range(count_adjusts_watched_firm[d,s])]\n",
    "                for s in range(iter_same_start)] \n",
    "            for d in range(iter_diff_start)]\n",
    "        for setup in range(len(setups))])\n",
    "\n",
    "qual_rank_firm = np.array(\n",
    "    [\n",
    "          1 +  \n",
    "          sum([\n",
    "              1 \n",
    "              for i in range(num_firm) \n",
    "              if qual_firm[d,watched_firm]> qual_firm[d,i] and i!=watched_firm]) \n",
    "          +\n",
    "          sum([\n",
    "              1 \n",
    "              for i in range(num_firm) \n",
    "              if qual_firm[d,watched_firm]== qual_firm[d,i] and i!=watched_firm])/2\n",
    "          for d in range(iter_diff_start)])\n",
    "\n",
    "rating_ranks = np.array(\n",
    "    [[\n",
    "          1 +  \n",
    "          sum([\n",
    "              1 \n",
    "              for i in range(num_firm) \n",
    "              if rating_firm[d,j]> rating_firm[d,i] and i!=j]) \n",
    "          +\n",
    "          sum([\n",
    "              1 \n",
    "              for i in range(num_firm) \n",
    "              if rating_firm[d,j]== rating_firm[d,i] and i!=j])/2\n",
    "          for j in range(num_firm)] \n",
    "        for d in range(iter_diff_start)])\n",
    "\n",
    "for setup in range(len(setups)):\n",
    "    current_line = 0\n",
    "    with open('demand_learning_data_{}.csv'.format(setups[setup]), 'w') as file:\n",
    "        writer = csv.writer(file, delimiter='\\t')\n",
    "        for d in range(iter_diff_start):\n",
    "            for s in range(iter_same_start):\n",
    "                for w in range(count_adjusts_watched_firm[d,s]):\n",
    "                    current_line = current_line +1\n",
    "                    line = list([current_line])\n",
    "                    for k in range(1,10):\n",
    "                        line.append(explanatory_vars(d, s, k, w, setup))\n",
    "                    line.append(sales_betw_adjusts[setup,d,s][w])\n",
    "                    writer.writerow(line)"
   ]
  },
  {
   "cell_type": "markdown",
   "metadata": {},
   "source": [
    "Track data for graph."
   ]
  },
  {
   "cell_type": "code",
   "execution_count": 13,
   "metadata": {
    "collapsed": true
   },
   "outputs": [],
   "source": [
    "arrival_out = np.array(\n",
    "    [[[\n",
    "                np.array([\n",
    "                    (time_customer_events[d,s,x],  x) \n",
    "                    for x in gen[d,s][i]]) \n",
    "                for i in range(num_price_adjusts_before_horizon[d,s] - 1)]\n",
    "            for s in range(iter_same_start)] \n",
    "        for d in range(iter_diff_start)])\n",
    "\n",
    "buying_out = np.array(\n",
    "    [[[[[\n",
    "                        [time_customer_events[d,s][gen[d,s][i][c]], prices_firm_adjust[setup,d,s][i,customer_decision[setup,d,s][i][c]], gen[d,s][i][c], customer_decision[setup,d,s][i][c]]\n",
    "                        for c in range(len(gen[d,s][i])) \n",
    "                        if customer_decision[setup,d,s][i][c]!=-1] \n",
    "                    for i in range(num_price_adjusts_before_horizon[d,s] - 1)] \n",
    "                for s in range(iter_same_start)]\n",
    "            for d in range(iter_diff_start)]\n",
    "        for setup in range(len(setups))])\n",
    "\n",
    "traject_out = np.array(\n",
    "    [[[[[\n",
    "                        [prices_firm_adjust[setup,d,s][i,k], price_adjusts_before_horizon[d,s][i] ,k]\n",
    "                        for k in range(num_firm)] \n",
    "                    for i in range(num_price_adjusts_before_horizon[d,s] - 1)] \n",
    "                for s in range(iter_same_start)]\n",
    "            for d in range(iter_diff_start)]\n",
    "        for setup in range(len(setups))])"
   ]
  },
  {
   "cell_type": "markdown",
   "metadata": {},
   "source": [
    "Illusetupes examples of price trajectories over time as well as the arrival of interested (indicated by vertical bars on the x-axis) and buying customers (indicated by dots) in case of K=5.\n",
    "Note, due to different qualities and ratings of competitors customers do not always choose the cheapest competitor."
   ]
  },
  {
   "cell_type": "code",
   "execution_count": 14,
   "metadata": {},
   "outputs": [
    {
     "data": {
      "image/png": "[encoded data removed]",
      "text/plain": [
       "<matplotlib.figure.Figure at 0x10c50bb00>"
      ]
     },
     "metadata": {},
     "output_type": "display_data"
    },
    {
     "data": {
      "image/png": "[encoded data removed]",
      "text/plain": [
       "<matplotlib.figure.Figure at 0x119a3b240>"
      ]
     },
     "metadata": {},
     "output_type": "display_data"
    },
    {
     "data": {
      "image/png": "[encoded data removed]",
      "text/plain": [
       "<matplotlib.figure.Figure at 0x11db1a400>"
      ]
     },
     "metadata": {},
     "output_type": "display_data"
    }
   ],
   "source": [
    "last_time = 8\n",
    "adjustments = [t for t in range(num_price_adjusts_before_horizon[0,0] - 1) if traject_out[0,0,0][t][0][1]<last_time]\n",
    "colors = [\"blue\",\"green\",\"yellow\",\"red\",\"magenta\"]\n",
    "firms = range(num_firm)\n",
    "arrivals = np.concatenate(np.array([arrival_out[0,0][t] for t in adjustments if arrival_out[0,0][t].size]).squeeze())\n",
    "if arrivals.ndim == 1:\n",
    "    arrivals = (np.array([arrival_out[0,0][t] for t in adjustments if arrival_out[0,0][t].size]).squeeze())\n",
    "arrivals = np.array([arrival for arrival in arrivals if arrival[0]<last_time])\n",
    "for setup in range(len(setups)):\n",
    "    for color, firm in zip(colors, firms):\n",
    "        plt.step([traject_out[setup,0,0][t][0][1] for t in adjustments], [traject_out[setup,0,0][t][firm][0] for t in adjustments], c = color, label='Firm {}'.format(firm+1), where=\"post\")\n",
    "    plt.legend(bbox_to_anchor=(1.05, 1), loc=2, borderaxespad=0.)\n",
    "    buying_data = np.concatenate([x for x in [buying_out[setup,0,0][t] for t in adjustments] if x != []])\n",
    "    buying_data = np.array([buying for buying in buying_data if buying[0]<last_time])\n",
    "    for color, firm in zip(colors, firms):\n",
    "        buying_data_firm = np.array([buying_data[x] for x in range(len(buying_data)) if buying_data[x,3]==firm])\n",
    "        if len(buying_data_firm>0):\n",
    "            plt.scatter(buying_data_firm[:,0] ,buying_data_firm[:,1], c = color)\n",
    "    plt.plot(arrivals[:,0],[0 for _ in arrivals[:,0]],'k|')\n",
    "    plt.xlabel('t')\n",
    "    plt.ylabel('p$_t$(k)')\n",
    "    plt.title('Setup {}'.format(setup+1))\n",
    "    plt.show()"
   ]
  },
  {
   "cell_type": "code",
   "execution_count": null,
   "metadata": {
    "collapsed": true
   },
   "outputs": [],
   "source": []
  }
 ],
 "metadata": {
  "kernelspec": {
   "display_name": "Python 3",
   "language": "python",
   "name": "python3"
  },
  "language_info": {
   "codemirror_mode": {
    "name": "ipython",
    "version": 3
   },
   "file_extension": ".py",
   "mimetype": "text/x-python",
   "name": "python",
   "nbconvert_exporter": "python",
   "pygments_lexer": "ipython3",
   "version": "3.6.3"
  }
 },
 "nbformat": 4,
 "nbformat_minor": 2
}
